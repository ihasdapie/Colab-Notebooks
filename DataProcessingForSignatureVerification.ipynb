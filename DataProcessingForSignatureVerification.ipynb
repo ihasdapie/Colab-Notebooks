{
  "nbformat": 4,
  "nbformat_minor": 0,
  "metadata": {
    "colab": {
      "name": "DataProcessingForSignatureVerification.ipynb",
      "provenance": [],
      "include_colab_link": true
    },
    "kernelspec": {
      "name": "python3",
      "display_name": "Python 3"
    },
    "accelerator": "GPU"
  },
  "cells": [
    {
      "cell_type": "markdown",
      "metadata": {
        "id": "view-in-github",
        "colab_type": "text"
      },
      "source": [
        "<a href=\"https://colab.research.google.com/github/ihasdapie/Colab-Notebooks/blob/master/DataProcessingForSignatureVerification.ipynb\" target=\"_parent\"><img src=\"https://colab.research.google.com/assets/colab-badge.svg\" alt=\"Open In Colab\"/></a>"
      ]
    },
    {
      "cell_type": "code",
      "metadata": {
        "id": "B4F34cvz9h7b",
        "colab_type": "code",
        "cellView": "form",
        "colab": {}
      },
      "source": [
        "#@title imports\n",
        "from __future__ import division\n",
        "import keras\n",
        "from keras.preprocessing.image import img_to_array, load_img\n",
        "import os\n",
        "from matplotlib import pyplot as plt\n",
        "import sklearn.metrics\n",
        "import numpy as np\n",
        "import cv2\n",
        "from keras import Sequential\n",
        "from keras.layers import Dense, Dropout, Input, Lambda, Flatten, Convolution2D, MaxPooling2D, ZeroPadding2D\n",
        "from keras import backend\n",
        "from keras.layers.advanced_activations import LeakyReLU\n",
        "from keras.layers import BatchNormalization\n",
        "from keras.activations import sigmoid\n",
        "#import cupy as cp\n",
        "from keras.regularizers import l2\n",
        "# from keras.engine.topology import Layer\n",
        "from keras.layers import Layer #or do i have to use the keras.engine.topolgy? will see.\n",
        "from keras.utils import to_categorical, plot_model\n",
        "from keras.models import Model\n",
        "from keras.optimizers import Adam\n",
        "import time\n",
        "from keras.utils import Sequence\n",
        "from sklearn.model_selection import train_test_split\n",
        "from sklearn.metrics import accuracy_score\n",
        "# plt.xkcd()\n",
        "import tensorflow as tf\n",
        "config = tf.ConfigProto()\n",
        "config.gpu_options.allow_growth = True\n",
        "session = tf.Session(config=config)\n"
      ],
      "execution_count": 0,
      "outputs": []
    },
    {
      "cell_type": "code",
      "metadata": {
        "id": "bA0m_ROm-CZy",
        "colab_type": "code",
        "colab": {}
      },
      "source": [
        "h, w = 500,300\n",
        "shape = (h,w,1)\n",
        "refdir = \"/content/drive/My Drive/Brians_Signature_Verification_Project/Dataset/Genuine\"\n",
        "fakedir = \"/content/drive/My Drive/Brians_Signature_Verification_Project/Dataset/Forgeries\"\n",
        "\n",
        "targetrefdir = \"/content/drive/My Drive/Brians_Signature_Verification_Project/Dataset/ProcessedGenuine\"\n",
        "targetfakedir = \"/content/drive/My Drive/Brians_Signature_Verification_Project/Dataset/ProcessedForgeries\"\n",
        "\n",
        "zipdir = \"/content/drive/My Drive/Brians_Signature_Verification_Project/Dataset/ZipDataSet\"\n"
      ],
      "execution_count": 0,
      "outputs": []
    },
    {
      "cell_type": "code",
      "metadata": {
        "id": "xWGqW0iY9ks8",
        "colab_type": "code",
        "cellView": "both",
        "colab": {}
      },
      "source": [
        "#@title save_img_to_dir(img_array,dir,label)\n",
        "def save_img_to_dir(img_array, directory, label):\n",
        "  for x in range(len(img_array)):\n",
        "    cv2.imwrite(directory+\"/\"+label+str(x)+\".png\", img_array[x][:,:,0])"
      ],
      "execution_count": 0,
      "outputs": []
    },
    {
      "cell_type": "code",
      "metadata": {
        "id": "jGD4QtoR9pak",
        "colab_type": "code",
        "cellView": "both",
        "colab": {}
      },
      "source": [
        "#@title load_data(dir, shape, label):\n",
        "def load_data(dir, shape, label = \"nolabel\" ):\n",
        "\n",
        "  img_array = [cv2.convertScaleAbs(img_to_array(load_img(dir+\"/\"+x, color_mode = \"grayscale\", target_size=(shape[0:2])))) for x in os.listdir(dir)]\n",
        "  img_array = [img.reshape(shape) for img in img_array]\n",
        "  img_array = np.asarray(img_array)\n",
        "  if label == \"nolabel\":\n",
        "    return img_array\n",
        "  else:\n",
        "    label_array = [label for x in range(len(img_array))]\n",
        "\n",
        "    #use numpy arrays instead.\n",
        "\n",
        "    # n_img = len(os.listdir(dir))\n",
        "\n",
        "    # img_array = np.zeros((n_img, 1))\n",
        "\n",
        "    # for x in os.listdir(dir):\n",
        "    #   np.append(img_array, cv2.convertScaleAbs(img_to_array(load_img(dir+\"/\"+x, color_mode = \"grayscale\" ))))\n",
        "    \n",
        "    # label_array = np.zeros((n_img, 1))\n",
        "\n",
        "    # for x in range(n_img):\n",
        "    #   np.append(label_array, label)\n",
        "\n",
        "    return img_array, label_array"
      ],
      "execution_count": 0,
      "outputs": []
    },
    {
      "cell_type": "code",
      "metadata": {
        "id": "UOM84zvo9qJj",
        "colab_type": "code",
        "cellView": "both",
        "colab": {}
      },
      "source": [
        "#@title make_training_set(real,fake)\n",
        "def make_training_set(real_dir, fake_dir, shape, size):\n",
        "# return pairs & true/false labels\n",
        "\n",
        "  X_real = load_data(real_dir, shape)/255\n",
        "  X_fake = load_data(fake_dir, shape)/255\n",
        "# 1 = genuine pair\n",
        "# 0 = false pair\n",
        "\n",
        "# list of size size of 0,1 for genuine/fake pairs\n",
        "# 0 = real,real -> Y = 1 (true match)\n",
        "# 1 = real,fake -> Y = 0 (no match)\n",
        "\n",
        "#return_shape = (n_pairs, pairsize (2), h, w, 1)\n",
        "\n",
        "  X_train = np.zeros(shape = (size, 2, shape[0], shape[1], 1))\n",
        "  Y_train = np.zeros(shape = (size, 1))\n",
        "  seed = np.random.randint(0, 2, size = size)\n",
        "  for x in range(seed.shape[0]):\n",
        "    if seed[x] == 0:\n",
        "      img_1 = X_real[np.random.randint(0,X_real.shape[0])]\n",
        "      img_2 = X_real[np.random.randint(0,X_real.shape[0])]\n",
        "      X_train[x, 0, :, :, 0] = img_1.reshape(shape[0], shape[1])\n",
        "      X_train[x, 1, :, :, 0] = img_2.reshape(shape[0], shape[1])\n",
        "      Y_train[x] = 1\n",
        "\n",
        "    if seed[x] == 1:\n",
        "      img_1 = X_real[np.random.randint(0,X_real.shape[0])]\n",
        "      img_2 = X_fake[np.random.randint(0,X_fake.shape[0])]\n",
        "      X_train[x, 0, :, :, 0] = img_1.reshape(shape[0], shape[1])\n",
        "      X_train[x, 1, :, :, 0] = img_2.reshape(shape[0], shape[1])\n",
        "      Y_train[x] = 0\n",
        "\n",
        "  # Y_train = to_categorical(Y_train) #techically not necessary because everything is 0/1 already, but I wanted to do it.\n",
        "\n",
        "  return X_train, Y_train"
      ],
      "execution_count": 0,
      "outputs": []
    },
    {
      "cell_type": "code",
      "metadata": {
        "id": "CfKwmxK6-69a",
        "colab_type": "code",
        "colab": {}
      },
      "source": [
        "#@title show_img\n",
        "def show_img(img, title= \"\"):\n",
        "  plt.imshow(img, cmap = 'gray')\n",
        "  plt.title(title)"
      ],
      "execution_count": 0,
      "outputs": []
    },
    {
      "cell_type": "code",
      "metadata": {
        "id": "lDePjUpP9U4T",
        "colab_type": "code",
        "cellView": "form",
        "colab": {}
      },
      "source": [
        "#@title pre_process_data(dir, h, w):\n",
        "def pre_process_data(dir, h, w):\n",
        "#returns X_array w/ superimposed centroids & bounding boxes, labels\n",
        "\n",
        "#load images in grayscale, resize, turn to array\n",
        "\n",
        "  grayscale_img_array = [(img_to_array(load_img(dir+\"/\"+x, color_mode = \"grayscale\", target_size = (h,w)))) for x in os.listdir(dir)]\n",
        "\n",
        "#try using openCV imread\n",
        "\n",
        "  # grayscale_img_array = [cv2.imread(img, cv2.IMREAD_GRAYSCALE) for img in os.listdir(dir)]\n",
        "  # cv2_imshow(grayscale_img_array[1])\n",
        "\n",
        "  grayscale_img_array=[(cv2.convertScaleAbs(img)) for img in grayscale_img_array] #convert to uint8 format\n",
        "#Thresholded images are used to find the weighted centroids of each image. \n",
        "#Thresholding is unnecessary but it was a learning experience. \n",
        "\n",
        "  thresholded_img_array = [cv2.threshold(img, 170,255,cv2.THRESH_BINARY_INV) for img in grayscale_img_array] #threshold binary is set higher that 127 due to image faintness\n",
        "  thresholded_img_array = [thresh[1] for thresh in thresholded_img_array] #threshold returns (ret, thresh). Only thresh is needed.\n",
        "\n",
        "  img_moments = [cv2.moments(thresh) for thresh in thresholded_img_array] #\"center of mass\" of image. This can be used to find the centroid of the image. \n",
        "\n",
        "  center_x_pos = [int(m[\"m10\"] / m[\"m00\"]) for m in img_moments]\n",
        "  center_y_pos = [int(m[\"m01\"] / m[\"m00\"]) for m in img_moments]\n",
        "\n",
        "# add \"crosshair\" to center of grayscale images\n",
        "# is there a way to do this in one list comprehension hm\n",
        "\n",
        "  for x in range(len(grayscale_img_array)):\n",
        "    (grayscale_img_array[x])[:, center_x_pos[x]] = 0\n",
        "    (grayscale_img_array[x])[center_y_pos[x], :] = 0\n",
        "\n",
        "#add bounding box to grayscale images\n",
        " \n",
        "  img_contour_array = [cv2.findContours(thresh, cv2.RETR_EXTERNAL, cv2.CHAIN_APPROX_SIMPLE) for thresh in thresholded_img_array]\n",
        "\n",
        "\n",
        "  for i in range(len(grayscale_img_array)):\n",
        "    x,y,w,h= cv2.boundingRect(img_contour_array[i][0])\n",
        "    grayscale_img_array[i] = cv2.rectangle(grayscale_img_array[i],(x,y),(x+w,y+h),(0,255,0),1)\n",
        "#get filenames\n",
        "  labels = [x.split(\".\")[0] for x in os.listdir(dir)]\n",
        "  return grayscale_img_array, labels\n"
      ],
      "execution_count": 0,
      "outputs": []
    },
    {
      "cell_type": "code",
      "metadata": {
        "id": "bjIVkjfj-gUD",
        "colab_type": "code",
        "colab": {}
      },
      "source": [
        "#Cannot train at high enough resolution to justify the data-preprocessing done, so will simply load it & turn into grayscale\n",
        "ref = load_data(refdir, shape)\n",
        "fake = load_data(fakedir, shape)\n"
      ],
      "execution_count": 0,
      "outputs": []
    },
    {
      "cell_type": "code",
      "metadata": {
        "id": "xQgPWQM9BSHz",
        "colab_type": "code",
        "outputId": "b9685f33-1b31-461c-dfbc-63f1de47885b",
        "colab": {
          "base_uri": "https://localhost:8080/",
          "height": 33
        }
      },
      "source": [
        "ref[:,:,:,0].shape"
      ],
      "execution_count": 0,
      "outputs": [
        {
          "output_type": "execute_result",
          "data": {
            "text/plain": [
              "(48, 500, 300)"
            ]
          },
          "metadata": {
            "tags": []
          },
          "execution_count": 50
        }
      ]
    },
    {
      "cell_type": "code",
      "metadata": {
        "id": "LsNKbOGj_UC6",
        "colab_type": "code",
        "colab": {}
      },
      "source": [
        "#save to dir\n",
        "save_img_to_dir( fake, targetfakedir, \"Fake_\")\n",
        "save_img_to_dir(ref, targetrefdir,  \"Real_\")"
      ],
      "execution_count": 0,
      "outputs": []
    },
    {
      "cell_type": "code",
      "metadata": {
        "id": "9SZCkhH8EWVL",
        "colab_type": "code",
        "outputId": "b8e51faa-58cc-4e10-fb70-c7ccac43059e",
        "colab": {
          "base_uri": "https://localhost:8080/",
          "height": 147
        }
      },
      "source": [
        "#access .zip files\n",
        "pip install gdown"
      ],
      "execution_count": 0,
      "outputs": [
        {
          "output_type": "stream",
          "text": [
            "Requirement already satisfied: gdown in /usr/local/lib/python3.6/dist-packages (3.6.4)\n",
            "Requirement already satisfied: requests in /usr/local/lib/python3.6/dist-packages (from gdown) (2.21.0)\n",
            "Requirement already satisfied: six in /usr/local/lib/python3.6/dist-packages (from gdown) (1.12.0)\n",
            "Requirement already satisfied: tqdm in /usr/local/lib/python3.6/dist-packages (from gdown) (4.28.1)\n",
            "Requirement already satisfied: idna<2.9,>=2.5 in /usr/local/lib/python3.6/dist-packages (from requests->gdown) (2.8)\n",
            "Requirement already satisfied: chardet<3.1.0,>=3.0.2 in /usr/local/lib/python3.6/dist-packages (from requests->gdown) (3.0.4)\n",
            "Requirement already satisfied: certifi>=2017.4.17 in /usr/local/lib/python3.6/dist-packages (from requests->gdown) (2019.9.11)\n",
            "Requirement already satisfied: urllib3<1.25,>=1.21.1 in /usr/local/lib/python3.6/dist-packages (from requests->gdown) (1.24.3)\n"
          ],
          "name": "stdout"
        }
      ]
    },
    {
      "cell_type": "code",
      "metadata": {
        "id": "X74ENKjXEZ6a",
        "colab_type": "code",
        "outputId": "4a86e646-6e57-4a6b-9234-3c6335887549",
        "colab": {
          "base_uri": "https://localhost:8080/",
          "height": 82
        }
      },
      "source": [
        "!gdown --id 1v5eGVp6aaSIsozIgmB1oOQjQU-l0AH90 --output /content/data.zip"
      ],
      "execution_count": 0,
      "outputs": [
        {
          "output_type": "stream",
          "text": [
            "Downloading...\n",
            "From: https://drive.google.com/uc?id=1v5eGVp6aaSIsozIgmB1oOQjQU-l0AH90\n",
            "To: /content/data.zip\n",
            "\r0.00B [00:00, ?B/s]\r3.99MB [00:00, 128MB/s]\n"
          ],
          "name": "stdout"
        }
      ]
    },
    {
      "cell_type": "code",
      "metadata": {
        "id": "CkZ7qivbEzBq",
        "colab_type": "code",
        "colab": {}
      },
      "source": [
        "import zipfile\n",
        "z = zipfile.ZipFile('/content/data.zip', 'r')\n",
        "z.extractall('/content/dataset')\n",
        "z.close()"
      ],
      "execution_count": 0,
      "outputs": []
    }
  ]
}