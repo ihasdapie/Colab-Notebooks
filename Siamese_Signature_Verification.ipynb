{
  "nbformat": 4,
  "nbformat_minor": 0,
  "metadata": {
    "colab": {
      "name": "Siamese_Signature_Verification.ipynb",
      "provenance": [],
      "collapsed_sections": [],
      "machine_shape": "hm",
      "include_colab_link": true
    },
    "kernelspec": {
      "name": "python3",
      "display_name": "Python 3"
    },
    "accelerator": "GPU"
  },
  "cells": [
    {
      "cell_type": "markdown",
      "metadata": {
        "id": "view-in-github",
        "colab_type": "text"
      },
      "source": [
        "<a href=\"https://colab.research.google.com/github/ihasdapie/Colab-Notebooks/blob/master/Siamese_Signature_Verification.ipynb\" target=\"_parent\"><img src=\"https://colab.research.google.com/assets/colab-badge.svg\" alt=\"Open In Colab\"/></a>"
      ]
    },
    {
      "cell_type": "markdown",
      "metadata": {
        "id": "oJCxysGgPtX-",
        "colab_type": "text"
      },
      "source": [
        "**Signature Verification Siamese Neural Network**\n",
        "\n",
        "Brian Chen | 2019"
      ]
    },
    {
      "cell_type": "code",
      "metadata": {
        "id": "JZPJdQ82pFe7",
        "colab_type": "code",
        "outputId": "cc328565-63d9-46f9-cdaf-3c49c74c5022",
        "colab": {
          "base_uri": "https://localhost:8080/",
          "height": 161
        }
      },
      "source": [
        "#get data\n",
        "pip install gdown"
      ],
      "execution_count": 0,
      "outputs": [
        {
          "output_type": "stream",
          "text": [
            "Requirement already satisfied: gdown in /usr/local/lib/python3.6/dist-packages (3.6.4)\n",
            "Requirement already satisfied: tqdm in /usr/local/lib/python3.6/dist-packages (from gdown) (4.28.1)\n",
            "Requirement already satisfied: requests in /usr/local/lib/python3.6/dist-packages (from gdown) (2.21.0)\n",
            "Requirement already satisfied: six in /usr/local/lib/python3.6/dist-packages (from gdown) (1.12.0)\n",
            "Requirement already satisfied: certifi>=2017.4.17 in /usr/local/lib/python3.6/dist-packages (from requests->gdown) (2019.11.28)\n",
            "Requirement already satisfied: idna<2.9,>=2.5 in /usr/local/lib/python3.6/dist-packages (from requests->gdown) (2.8)\n",
            "Requirement already satisfied: chardet<3.1.0,>=3.0.2 in /usr/local/lib/python3.6/dist-packages (from requests->gdown) (3.0.4)\n",
            "Requirement already satisfied: urllib3<1.25,>=1.21.1 in /usr/local/lib/python3.6/dist-packages (from requests->gdown) (1.24.3)\n"
          ],
          "name": "stdout"
        }
      ]
    },
    {
      "cell_type": "markdown",
      "metadata": {
        "id": "Qqml4KOnue_P",
        "colab_type": "text"
      },
      "source": [
        ""
      ]
    },
    {
      "cell_type": "code",
      "metadata": {
        "id": "wWYQZOExFYEK",
        "colab_type": "code",
        "outputId": "021eb1cf-2d8f-4fb1-e3e9-a2276172cd21",
        "colab": {
          "base_uri": "https://localhost:8080/",
          "height": 89
        }
      },
      "source": [
        "!gdown --id 1v5eGVp6aaSIsozIgmB1oOQjQU-l0AH90 --output /content/data.zip"
      ],
      "execution_count": 0,
      "outputs": [
        {
          "output_type": "stream",
          "text": [
            "Downloading...\n",
            "From: https://drive.google.com/uc?id=1v5eGVp6aaSIsozIgmB1oOQjQU-l0AH90\n",
            "To: /content/data.zip\n",
            "\r0.00B [00:00, ?B/s]\r3.99MB [00:00, 125MB/s]\n"
          ],
          "name": "stdout"
        }
      ]
    },
    {
      "cell_type": "code",
      "metadata": {
        "id": "YoTim5cLpIBa",
        "colab_type": "code",
        "outputId": "80403c2d-0864-40b0-a3f5-82fbb7d1ca50",
        "cellView": "form",
        "colab": {
          "base_uri": "https://localhost:8080/",
          "height": 82
        }
      },
      "source": [
        "#@title imports\n",
        "import zipfile\n",
        "import os\n",
        "import keras\n",
        "import numpy as np\n",
        "import cv2\n",
        "from matplotlib import pyplot as plt\n",
        "import time\n",
        "import tensorflow as tf\n",
        "\n",
        "from keras.preprocessing.image import img_to_array, load_img\n",
        "from keras.layers import BatchNormalization, Dense, Dropout, Input, Lambda, Flatten, Convolution2D, MaxPooling2D, ZeroPadding2D\n",
        "from keras import Sequential\n",
        "from keras import backend\n",
        "from keras.layers.advanced_activations import LeakyReLU\n",
        "from keras.activations import sigmoid\n",
        "from keras.regularizers import l2\n",
        "from keras.layers import Layer #or do i have to use the keras.engine.topolgy? will see.\n",
        "from keras.utils import to_categorical, plot_model, Sequence\n",
        "from keras.models import Model\n",
        "from keras.optimizers import Adam\n",
        "\n",
        "from sklearn.model_selection import train_test_split\n",
        "\n",
        "# plt.xkcd()\n",
        "config = tf.ConfigProto()\n",
        "config.gpu_options.allow_growth = True\n",
        "session = tf.Session(config=config)"
      ],
      "execution_count": 0,
      "outputs": [
        {
          "output_type": "stream",
          "text": [
            "Using TensorFlow backend.\n"
          ],
          "name": "stderr"
        },
        {
          "output_type": "display_data",
          "data": {
            "text/html": [
              "<p style=\"color: red;\">\n",
              "The default version of TensorFlow in Colab will soon switch to TensorFlow 2.x.<br>\n",
              "We recommend you <a href=\"https://www.tensorflow.org/guide/migrate\" target=\"_blank\">upgrade</a> now \n",
              "or ensure your notebook will continue to use TensorFlow 1.x via the <code>%tensorflow_version 1.x</code> magic:\n",
              "<a href=\"https://colab.research.google.com/notebooks/tensorflow_version.ipynb\" target=\"_blank\">more info</a>.</p>\n"
            ],
            "text/plain": [
              "<IPython.core.display.HTML object>"
            ]
          },
          "metadata": {
            "tags": []
          }
        }
      ]
    },
    {
      "cell_type": "code",
      "metadata": {
        "id": "oJPG_04K1fqE",
        "colab_type": "code",
        "colab": {}
      },
      "source": [
        "#extract data\n",
        "z = zipfile.ZipFile('/content/data.zip', 'r')\n",
        "z.extractall('/content/dataset')\n",
        "z.close()"
      ],
      "execution_count": 0,
      "outputs": []
    },
    {
      "cell_type": "code",
      "metadata": {
        "id": "oz-HNZUvlats",
        "colab_type": "code",
        "cellView": "form",
        "colab": {}
      },
      "source": [
        "#@title Parameters\n",
        "\n",
        "num_batch = 16 #@param {type: \"integer\"}\n",
        "num_epochs = 128 #@param {type: \"integer\"}\n",
        "validate_every = 250 #@param {type: \"integer\"}\n",
        "num_pairs = 1722 #@param {type: \"integer\"}\n",
        "learning_rate = 0.0001 #@param {type: \"number\"}\n",
        "h = 100 #@param {type: \"integer\"}\n",
        "w = 80 #@param {type: \"integer\"}\n",
        "shape = (h, w, 1)\n",
        "\n",
        "real_dir = \"/content/dataset/ProcessedGenuine\"\n",
        "fake_dir = \"/content/dataset/ProcessedForgeries\""
      ],
      "execution_count": 0,
      "outputs": []
    },
    {
      "cell_type": "code",
      "metadata": {
        "colab_type": "code",
        "cellView": "form",
        "id": "VXDmeRDQFNSz",
        "colab": {}
      },
      "source": [
        "#@title load_data(dir, shape, label):\n",
        "def load_data(dir, shape, label = \"nolabel\" ):\n",
        "  #returns image array of shape (size, h, w, 1) given directory\n",
        "\n",
        "  img_array = [cv2.convertScaleAbs(img_to_array(load_img(dir+\"/\"+x, color_mode = \"grayscale\", target_size=(shape[0:2])))) for x in os.listdir(dir)]\n",
        "  img_array = [img.reshape(shape) for img in img_array]\n",
        "  img_array = np.asarray(img_array)\n",
        "  if label == \"nolabel\":\n",
        "    return img_array\n",
        "  else:\n",
        "    label_array = [label for x in range(len(img_array))]\n",
        "\n",
        "\n",
        "\n",
        "    #use numpy arrays instead.\n",
        "\n",
        "    # n_img = len(os.listdir(dir))\n",
        "\n",
        "    # img_array = np.zeros((n_img, 1))\n",
        "\n",
        "    # for x in os.listdir(dir):\n",
        "    #   np.append(img_array, cv2.convertScaleAbs(img_to_array(load_img(dir+\"/\"+x, color_mode = \"grayscale\" ))))\n",
        "    \n",
        "    # label_array = np.zeros((n_img, 1))\n",
        "\n",
        "    # for x in range(n_img):\n",
        "    #   np.append(label_array, label)\n",
        "\n",
        "    return img_array, label_array"
      ],
      "execution_count": 0,
      "outputs": []
    },
    {
      "cell_type": "code",
      "metadata": {
        "id": "_l8SFdDg3k7L",
        "colab_type": "code",
        "cellView": "form",
        "colab": {}
      },
      "source": [
        "#@title make_training_set(real_dir ,fake_dir, shape, size)\n",
        "def make_training_set(real_dir, fake_dir, shape, size):\n",
        "# return pairs & true/false labels\n",
        "\n",
        "  X_real = load_data(real_dir, shape)/255\n",
        "  X_fake = load_data(fake_dir, shape)/255\n",
        "# 1 = genuine pair\n",
        "# 0 = false pair\n",
        "\n",
        "# list of size size of 0,1 for genuine/fake pairs\n",
        "# 0 = real,real -> Y = 1 (true match)\n",
        "# 1 = real,fake -> Y = 0 (no match)\n",
        "\n",
        "#return_shape = (n_pairs, pairsize (2), h, w, 1)\n",
        "\n",
        "  X_train = np.zeros(shape = (size, 2, shape[0], shape[1], 1))\n",
        "  Y_train = np.zeros(shape = (size, 1))\n",
        "  seed = np.random.randint(0, 2, size = size)\n",
        "  for x in range(seed.shape[0]):\n",
        "    if seed[x] == 0:\n",
        "      img_1 = X_real[np.random.randint(0,X_real.shape[0])]\n",
        "      img_2 = X_real[np.random.randint(0,X_real.shape[0])]\n",
        "      X_train[x, 0, :, :, 0] = img_1.reshape(shape[0], shape[1])\n",
        "      X_train[x, 1, :, :, 0] = img_2.reshape(shape[0], shape[1])\n",
        "      Y_train[x] = 1\n",
        "\n",
        "    if seed[x] == 1:\n",
        "      img_1 = X_real[np.random.randint(0,X_real.shape[0])]\n",
        "      img_2 = X_fake[np.random.randint(0,X_fake.shape[0])]\n",
        "      X_train[x, 0, :, :, 0] = img_1.reshape(shape[0], shape[1])\n",
        "      X_train[x, 1, :, :, 0] = img_2.reshape(shape[0], shape[1])\n",
        "      Y_train[x] = 0\n",
        "\n",
        "  # Y_train = to_categorical(Y_train) #techically not necessary because everything is 0/1 already, but I wanted to do it.\n",
        "\n",
        "  return X_train, Y_train"
      ],
      "execution_count": 0,
      "outputs": []
    },
    {
      "cell_type": "code",
      "metadata": {
        "id": "HP7ra_adJ2Iu",
        "colab_type": "code",
        "colab": {}
      },
      "source": [
        "def bias_initializer(shape, dtype = None):\n",
        "  #intial random normal distrubution bias for dense layers\n",
        "  return np.random.normal(loc = 0.5, scale = 1e-2, size = shape)"
      ],
      "execution_count": 0,
      "outputs": []
    },
    {
      "cell_type": "code",
      "metadata": {
        "id": "e4Uu54-89pOP",
        "colab_type": "code",
        "cellView": "form",
        "colab": {}
      },
      "source": [
        "#@title create_network(shape):\n",
        "\n",
        "def create_network(shape):\n",
        "  net = Sequential()\n",
        "  #conv/fc layer -> batchnorm -> activation -> dropout\n",
        "  #using tensorflow backend, so dataformat = 'channels_last'\n",
        "  \n",
        "  net.add(Convolution2D(32,  kernel_size=(4,4), padding = 'valid', data_format = \"channels_last\", bias_initializer= bias_initializer,\n",
        "                        input_shape = shape, kernel_initializer= \"glorot_normal\", kernel_regularizer = l2(2e-4)))\n",
        "  net.add(BatchNormalization())\n",
        "  net.add(LeakyReLU(alpha = (0.3)))\n",
        "  net.add(MaxPooling2D(pool_size=(2,2)))\n",
        "  net.add(Dropout(0.3))\n",
        "  \n",
        "  net.add(Convolution2D(64,  kernel_size=(2,2), padding = 'valid', data_format = \"channels_last\", bias_initializer= bias_initializer,\n",
        "                        kernel_initializer= \"glorot_normal\", kernel_regularizer=l2(2e-4)))\n",
        "  net.add(BatchNormalization())\n",
        "  net.add(LeakyReLU(alpha = (0.3)))\n",
        "  net.add(MaxPooling2D(pool_size = (2,2)))\n",
        "  net.add(Dropout(0.3))\n",
        "  \n",
        "  \n",
        "  net.add(Flatten())\n",
        "\n",
        "  net.add(Dense(64, kernel_initializer= \"glorot_normal\", kernel_regularizer= l2(2e-4),\n",
        "                bias_initializer= bias_initializer))\n",
        "  net.add(LeakyReLU(alpha = (0.3)))\n",
        "  net.add(Dropout(0.3))\n",
        "  \n",
        "  net.add(Dense(64, activation = 'sigmoid', bias_initializer= bias_initializer, kernel_regularizer= l2(2e-4)))\n",
        "  \n",
        "  return net"
      ],
      "execution_count": 0,
      "outputs": []
    },
    {
      "cell_type": "code",
      "metadata": {
        "id": "leXE7oL4rpaF",
        "colab_type": "code",
        "cellView": "form",
        "colab": {}
      },
      "source": [
        "#@title show_img\n",
        "def show_img(img, title= \"\"):\n",
        "  #displays image\n",
        "  plt.imshow(img, cmap = 'gray')\n",
        "  plt.title(title)"
      ],
      "execution_count": 0,
      "outputs": []
    },
    {
      "cell_type": "code",
      "metadata": {
        "id": "mACHIVoLNz7p",
        "colab_type": "code",
        "cellView": "both",
        "colab": {}
      },
      "source": [
        "#@title make training arrays\n",
        "X_train, Y_train = make_training_set(real_dir, fake_dir, shape, num_pairs)"
      ],
      "execution_count": 0,
      "outputs": []
    },
    {
      "cell_type": "code",
      "metadata": {
        "id": "S5Hx9vmN54YY",
        "colab_type": "code",
        "colab": {}
      },
      "source": [
        "#train model on a part of the training set, verify accuracy on untouched set\n",
        "x_train, x_test, y_train, y_test = train_test_split(X_train, Y_train, test_size=.25)\n",
        "img_1_array = x_train[:,0]\n",
        "img_2_array = x_train[:,1]"
      ],
      "execution_count": 0,
      "outputs": []
    },
    {
      "cell_type": "code",
      "metadata": {
        "id": "xjCzWs1Rurbk",
        "colab_type": "code",
        "outputId": "56613a11-18c5-4532-c75d-64f95468b93e",
        "colab": {
          "base_uri": "https://localhost:8080/",
          "height": 1000
        }
      },
      "source": [
        "#create & compile siamese model\n",
        "steven = create_network(shape)\n",
        "steven.summary()\n",
        "\n",
        "input_1 = Input(shape=shape)\n",
        "input_2 = Input(shape=shape)\n",
        "\n",
        "network_1 = steven(input_1)\n",
        "network_2 = steven(input_2)\n",
        "\n",
        "dist_layer = Lambda(lambda tensors:backend.abs(tensors[0]-tensors[1]))\n",
        "distance = dist_layer([network_1, network_2])\n",
        "\n",
        "output = Dense(1, activation= \"sigmoid\", bias_initializer= bias_initializer)(distance)\n",
        "\n",
        "adam = keras.optimizers.adam(lr = learning_rate)\n",
        "\n",
        "steven_model = Model(input=[input_1, input_2], output = output)\n",
        "\n",
        "steven_model.compile(loss = keras.losses.binary_crossentropy , optimizer = adam, metrics = [\"accuracy\"])\n",
        "plot_model(steven_model, show_shapes=True, expand_nested=True,  show_layer_names=True, to_file='model.png')\n",
        "steven_model.summary()\n"
      ],
      "execution_count": 0,
      "outputs": [
        {
          "output_type": "stream",
          "text": [
            "WARNING:tensorflow:From /usr/local/lib/python3.6/dist-packages/keras/backend/tensorflow_backend.py:66: The name tf.get_default_graph is deprecated. Please use tf.compat.v1.get_default_graph instead.\n",
            "\n",
            "WARNING:tensorflow:From /usr/local/lib/python3.6/dist-packages/keras/backend/tensorflow_backend.py:541: The name tf.placeholder is deprecated. Please use tf.compat.v1.placeholder instead.\n",
            "\n",
            "WARNING:tensorflow:From /usr/local/lib/python3.6/dist-packages/keras/backend/tensorflow_backend.py:4479: The name tf.truncated_normal is deprecated. Please use tf.random.truncated_normal instead.\n",
            "\n",
            "WARNING:tensorflow:From /usr/local/lib/python3.6/dist-packages/keras/backend/tensorflow_backend.py:190: The name tf.get_default_session is deprecated. Please use tf.compat.v1.get_default_session instead.\n",
            "\n",
            "WARNING:tensorflow:From /usr/local/lib/python3.6/dist-packages/keras/backend/tensorflow_backend.py:207: The name tf.global_variables is deprecated. Please use tf.compat.v1.global_variables instead.\n",
            "\n",
            "WARNING:tensorflow:From /usr/local/lib/python3.6/dist-packages/keras/backend/tensorflow_backend.py:216: The name tf.is_variable_initialized is deprecated. Please use tf.compat.v1.is_variable_initialized instead.\n",
            "\n",
            "WARNING:tensorflow:From /usr/local/lib/python3.6/dist-packages/keras/backend/tensorflow_backend.py:223: The name tf.variables_initializer is deprecated. Please use tf.compat.v1.variables_initializer instead.\n",
            "\n",
            "WARNING:tensorflow:From /usr/local/lib/python3.6/dist-packages/keras/backend/tensorflow_backend.py:2041: The name tf.nn.fused_batch_norm is deprecated. Please use tf.compat.v1.nn.fused_batch_norm instead.\n",
            "\n",
            "WARNING:tensorflow:From /usr/local/lib/python3.6/dist-packages/keras/backend/tensorflow_backend.py:148: The name tf.placeholder_with_default is deprecated. Please use tf.compat.v1.placeholder_with_default instead.\n",
            "\n",
            "WARNING:tensorflow:From /usr/local/lib/python3.6/dist-packages/keras/backend/tensorflow_backend.py:4267: The name tf.nn.max_pool is deprecated. Please use tf.nn.max_pool2d instead.\n",
            "\n",
            "WARNING:tensorflow:From /usr/local/lib/python3.6/dist-packages/keras/backend/tensorflow_backend.py:3733: calling dropout (from tensorflow.python.ops.nn_ops) with keep_prob is deprecated and will be removed in a future version.\n",
            "Instructions for updating:\n",
            "Please use `rate` instead of `keep_prob`. Rate should be set to `rate = 1 - keep_prob`.\n",
            "WARNING:tensorflow:From /usr/local/lib/python3.6/dist-packages/keras/backend/tensorflow_backend.py:4432: The name tf.random_uniform is deprecated. Please use tf.random.uniform instead.\n",
            "\n",
            "Model: \"sequential_1\"\n",
            "_________________________________________________________________\n",
            "Layer (type)                 Output Shape              Param #   \n",
            "=================================================================\n",
            "conv2d_1 (Conv2D)            (None, 97, 77, 32)        544       \n",
            "_________________________________________________________________\n",
            "batch_normalization_1 (Batch (None, 97, 77, 32)        128       \n",
            "_________________________________________________________________\n",
            "leaky_re_lu_1 (LeakyReLU)    (None, 97, 77, 32)        0         \n",
            "_________________________________________________________________\n",
            "max_pooling2d_1 (MaxPooling2 (None, 48, 38, 32)        0         \n",
            "_________________________________________________________________\n",
            "dropout_1 (Dropout)          (None, 48, 38, 32)        0         \n",
            "_________________________________________________________________\n",
            "conv2d_2 (Conv2D)            (None, 47, 37, 64)        8256      \n",
            "_________________________________________________________________\n",
            "batch_normalization_2 (Batch (None, 47, 37, 64)        256       \n",
            "_________________________________________________________________\n",
            "leaky_re_lu_2 (LeakyReLU)    (None, 47, 37, 64)        0         \n",
            "_________________________________________________________________\n",
            "max_pooling2d_2 (MaxPooling2 (None, 23, 18, 64)        0         \n",
            "_________________________________________________________________\n",
            "dropout_2 (Dropout)          (None, 23, 18, 64)        0         \n",
            "_________________________________________________________________\n",
            "flatten_1 (Flatten)          (None, 26496)             0         \n",
            "_________________________________________________________________\n",
            "dense_1 (Dense)              (None, 64)                1695808   \n",
            "_________________________________________________________________\n",
            "leaky_re_lu_3 (LeakyReLU)    (None, 64)                0         \n",
            "_________________________________________________________________\n",
            "dropout_3 (Dropout)          (None, 64)                0         \n",
            "_________________________________________________________________\n",
            "dense_2 (Dense)              (None, 64)                4160      \n",
            "=================================================================\n",
            "Total params: 1,709,152\n",
            "Trainable params: 1,708,960\n",
            "Non-trainable params: 192\n",
            "_________________________________________________________________\n",
            "WARNING:tensorflow:From /usr/local/lib/python3.6/dist-packages/keras/optimizers.py:793: The name tf.train.Optimizer is deprecated. Please use tf.compat.v1.train.Optimizer instead.\n",
            "\n",
            "WARNING:tensorflow:From /usr/local/lib/python3.6/dist-packages/keras/backend/tensorflow_backend.py:3657: The name tf.log is deprecated. Please use tf.math.log instead.\n",
            "\n",
            "WARNING:tensorflow:From /usr/local/lib/python3.6/dist-packages/tensorflow_core/python/ops/nn_impl.py:183: where (from tensorflow.python.ops.array_ops) is deprecated and will be removed in a future version.\n",
            "Instructions for updating:\n",
            "Use tf.where in 2.0, which has the same broadcast rule as np.where\n"
          ],
          "name": "stdout"
        },
        {
          "output_type": "stream",
          "text": [
            "/usr/local/lib/python3.6/dist-packages/ipykernel_launcher.py:17: UserWarning: Update your `Model` call to the Keras 2 API: `Model(inputs=[<tf.Tenso..., outputs=Tensor(\"de...)`\n"
          ],
          "name": "stderr"
        },
        {
          "output_type": "stream",
          "text": [
            "Model: \"model_1\"\n",
            "__________________________________________________________________________________________________\n",
            "Layer (type)                    Output Shape         Param #     Connected to                     \n",
            "==================================================================================================\n",
            "input_1 (InputLayer)            (None, 100, 80, 1)   0                                            \n",
            "__________________________________________________________________________________________________\n",
            "input_2 (InputLayer)            (None, 100, 80, 1)   0                                            \n",
            "__________________________________________________________________________________________________\n",
            "sequential_1 (Sequential)       (None, 64)           1709152     input_1[0][0]                    \n",
            "                                                                 input_2[0][0]                    \n",
            "__________________________________________________________________________________________________\n",
            "lambda_1 (Lambda)               (None, 64)           0           sequential_1[1][0]               \n",
            "                                                                 sequential_1[2][0]               \n",
            "__________________________________________________________________________________________________\n",
            "dense_3 (Dense)                 (None, 1)            65          lambda_1[0][0]                   \n",
            "==================================================================================================\n",
            "Total params: 1,709,217\n",
            "Trainable params: 1,709,025\n",
            "Non-trainable params: 192\n",
            "__________________________________________________________________________________________________\n"
          ],
          "name": "stdout"
        }
      ]
    },
    {
      "cell_type": "code",
      "metadata": {
        "id": "uqfxR2KCdWyE",
        "colab_type": "code",
        "outputId": "ffe1ef75-7cb9-42ad-819f-37d9cf87667a",
        "colab": {
          "base_uri": "https://localhost:8080/",
          "height": 89
        }
      },
      "source": [
        "#to use pre-trained model weights... \n",
        "!gdown --id 1hlSa5iEBRDm0cOmarDwpsYQQ52-CY9V6 --output /content/steven.h5\n",
        "steven_model.load_weights('/content/steven.h5')"
      ],
      "execution_count": 0,
      "outputs": [
        {
          "output_type": "stream",
          "text": [
            "Downloading...\n",
            "From: https://drive.google.com/uc?id=1hlSa5iEBRDm0cOmarDwpsYQQ52-CY9V6\n",
            "To: /content/steven.h5\n",
            "\r0.00B [00:00, ?B/s]\r6.86MB [00:00, 109MB/s]\n"
          ],
          "name": "stdout"
        }
      ]
    },
    {
      "cell_type": "markdown",
      "metadata": {
        "id": "bNw1Oh3XbbFQ",
        "colab_type": "text"
      },
      "source": [
        "## **model diagram**\n",
        "\n",
        "![model diagram](https://drive.google.com/uc?id=1ipmJ4-gq4L58tY0aZnjehFht2Lw-y90N)"
      ]
    },
    {
      "cell_type": "code",
      "metadata": {
        "id": "GdaxbrS9QyOI",
        "colab_type": "code",
        "outputId": "ec9f5779-4d26-4cbb-8e50-2a4155c0567a",
        "colab": {
          "base_uri": "https://localhost:8080/",
          "height": 1000
        }
      },
      "source": [
        "#train model\n",
        "#this takes about 8-10 minutes\n",
        "#to train a model from scractch, ensure all the data is loaded, and run \"create model\" without loading the previous model\n",
        "# ^^make sure you have connected to a server with the connect button in the top right corner!\n",
        "\n",
        "history = steven_model.fit(x=[img_1_array, img_2_array], y = y_train, validation_split = 0.25, validation_steps = int(np.abs(np.ceil(num_epochs/num_batch))),\n",
        "                 epochs = num_epochs, verbose = 1, steps_per_epoch= int(np.abs(np.ceil(num_epochs/num_batch))))"
      ],
      "execution_count": 0,
      "outputs": [
        {
          "output_type": "stream",
          "text": [
            "WARNING:tensorflow:From /usr/local/lib/python3.6/dist-packages/keras/backend/tensorflow_backend.py:1033: The name tf.assign_add is deprecated. Please use tf.compat.v1.assign_add instead.\n",
            "\n",
            "WARNING:tensorflow:From /usr/local/lib/python3.6/dist-packages/keras/backend/tensorflow_backend.py:1020: The name tf.assign is deprecated. Please use tf.compat.v1.assign instead.\n",
            "\n",
            "Train on 968 samples, validate on 323 samples\n",
            "Epoch 1/128\n",
            "8/8 [==============================] - 5s 650ms/step - loss: 0.7043 - acc: 0.6180 - val_loss: 0.6079 - val_acc: 0.7678\n",
            "Epoch 2/128\n",
            "8/8 [==============================] - 3s 416ms/step - loss: 0.5651 - acc: 0.7974 - val_loss: 0.4780 - val_acc: 0.8824\n",
            "Epoch 3/128\n",
            "8/8 [==============================] - 3s 416ms/step - loss: 0.4430 - acc: 0.8905 - val_loss: 0.3735 - val_acc: 0.9536\n",
            "Epoch 4/128\n",
            "8/8 [==============================] - 3s 415ms/step - loss: 0.3485 - acc: 0.9522 - val_loss: 0.3074 - val_acc: 0.9845\n",
            "Epoch 5/128\n",
            "8/8 [==============================] - 3s 415ms/step - loss: 0.2855 - acc: 0.9850 - val_loss: 0.2653 - val_acc: 0.9876\n",
            "Epoch 6/128\n",
            "8/8 [==============================] - 3s 415ms/step - loss: 0.2417 - acc: 0.9913 - val_loss: 0.2723 - val_acc: 0.9814\n",
            "Epoch 7/128\n",
            "8/8 [==============================] - 3s 416ms/step - loss: 0.2158 - acc: 0.9942 - val_loss: 0.2775 - val_acc: 0.9752\n",
            "Epoch 8/128\n",
            "8/8 [==============================] - 3s 415ms/step - loss: 0.1955 - acc: 0.9952 - val_loss: 0.2910 - val_acc: 0.9505\n",
            "Epoch 9/128\n",
            "8/8 [==============================] - 3s 415ms/step - loss: 0.1796 - acc: 0.9965 - val_loss: 0.3831 - val_acc: 0.8638\n",
            "Epoch 10/128\n",
            "8/8 [==============================] - 3s 416ms/step - loss: 0.1681 - acc: 0.9982 - val_loss: 0.4094 - val_acc: 0.8483\n",
            "Epoch 11/128\n",
            "8/8 [==============================] - 3s 416ms/step - loss: 0.1588 - acc: 0.9992 - val_loss: 0.5305 - val_acc: 0.7616\n",
            "Epoch 12/128\n",
            "8/8 [==============================] - 3s 415ms/step - loss: 0.1512 - acc: 0.9995 - val_loss: 0.5861 - val_acc: 0.7121\n",
            "Epoch 13/128\n",
            "8/8 [==============================] - 3s 415ms/step - loss: 0.1449 - acc: 1.0000 - val_loss: 0.5724 - val_acc: 0.7307\n",
            "Epoch 14/128\n",
            "8/8 [==============================] - 3s 415ms/step - loss: 0.1400 - acc: 1.0000 - val_loss: 0.5850 - val_acc: 0.7059\n",
            "Epoch 15/128\n",
            "8/8 [==============================] - 3s 415ms/step - loss: 0.1353 - acc: 1.0000 - val_loss: 0.5945 - val_acc: 0.6935\n",
            "Epoch 16/128\n",
            "8/8 [==============================] - 3s 416ms/step - loss: 0.1314 - acc: 0.9999 - val_loss: 0.6630 - val_acc: 0.6502\n",
            "Epoch 17/128\n",
            "8/8 [==============================] - 3s 414ms/step - loss: 0.1286 - acc: 1.0000 - val_loss: 0.6178 - val_acc: 0.6842\n",
            "Epoch 18/128\n",
            "8/8 [==============================] - 3s 416ms/step - loss: 0.1255 - acc: 1.0000 - val_loss: 0.6028 - val_acc: 0.6966\n",
            "Epoch 19/128\n",
            "8/8 [==============================] - 3s 417ms/step - loss: 0.1225 - acc: 1.0000 - val_loss: 0.6085 - val_acc: 0.6904\n",
            "Epoch 20/128\n",
            "8/8 [==============================] - 3s 416ms/step - loss: 0.1193 - acc: 1.0000 - val_loss: 0.6113 - val_acc: 0.6966\n",
            "Epoch 21/128\n",
            "8/8 [==============================] - 3s 416ms/step - loss: 0.1178 - acc: 1.0000 - val_loss: 0.5822 - val_acc: 0.7245\n",
            "Epoch 22/128\n",
            "8/8 [==============================] - 3s 416ms/step - loss: 0.1165 - acc: 1.0000 - val_loss: 0.6414 - val_acc: 0.6656\n",
            "Epoch 23/128\n",
            "8/8 [==============================] - 3s 416ms/step - loss: 0.1140 - acc: 1.0000 - val_loss: 0.5193 - val_acc: 0.7709\n",
            "Epoch 24/128\n",
            "8/8 [==============================] - 3s 415ms/step - loss: 0.1115 - acc: 1.0000 - val_loss: 0.5037 - val_acc: 0.7833\n",
            "Epoch 25/128\n",
            "8/8 [==============================] - 3s 415ms/step - loss: 0.1101 - acc: 1.0000 - val_loss: 0.4799 - val_acc: 0.7957\n",
            "Epoch 26/128\n",
            "8/8 [==============================] - 3s 415ms/step - loss: 0.1084 - acc: 1.0000 - val_loss: 0.5564 - val_acc: 0.7368\n",
            "Epoch 27/128\n",
            "8/8 [==============================] - 3s 415ms/step - loss: 0.1069 - acc: 1.0000 - val_loss: 0.4474 - val_acc: 0.8173\n",
            "Epoch 28/128\n",
            "8/8 [==============================] - 3s 416ms/step - loss: 0.1051 - acc: 1.0000 - val_loss: 0.4179 - val_acc: 0.8235\n",
            "Epoch 29/128\n",
            "8/8 [==============================] - 3s 415ms/step - loss: 0.1036 - acc: 1.0000 - val_loss: 0.3946 - val_acc: 0.8483\n",
            "Epoch 30/128\n",
            "8/8 [==============================] - 3s 416ms/step - loss: 0.1022 - acc: 1.0000 - val_loss: 0.3744 - val_acc: 0.8638\n",
            "Epoch 31/128\n",
            "8/8 [==============================] - 3s 416ms/step - loss: 0.1012 - acc: 1.0000 - val_loss: 0.3604 - val_acc: 0.8793\n",
            "Epoch 32/128\n",
            "8/8 [==============================] - 3s 415ms/step - loss: 0.1002 - acc: 1.0000 - val_loss: 0.3679 - val_acc: 0.8638\n",
            "Epoch 33/128\n",
            "8/8 [==============================] - 3s 416ms/step - loss: 0.0991 - acc: 1.0000 - val_loss: 0.3383 - val_acc: 0.8854\n",
            "Epoch 34/128\n",
            "8/8 [==============================] - 3s 416ms/step - loss: 0.0979 - acc: 1.0000 - val_loss: 0.3343 - val_acc: 0.8854\n",
            "Epoch 35/128\n",
            "8/8 [==============================] - 3s 414ms/step - loss: 0.0962 - acc: 1.0000 - val_loss: 0.3885 - val_acc: 0.8576\n",
            "Epoch 36/128\n",
            "8/8 [==============================] - 3s 415ms/step - loss: 0.0955 - acc: 1.0000 - val_loss: 0.3794 - val_acc: 0.8576\n",
            "Epoch 37/128\n",
            "8/8 [==============================] - 3s 416ms/step - loss: 0.0940 - acc: 1.0000 - val_loss: 0.2863 - val_acc: 0.8916\n",
            "Epoch 38/128\n",
            "8/8 [==============================] - 3s 414ms/step - loss: 0.0928 - acc: 1.0000 - val_loss: 0.3215 - val_acc: 0.8885\n",
            "Epoch 39/128\n",
            "8/8 [==============================] - 3s 415ms/step - loss: 0.0922 - acc: 1.0000 - val_loss: 0.2411 - val_acc: 0.9288\n",
            "Epoch 40/128\n",
            "8/8 [==============================] - 3s 415ms/step - loss: 0.0902 - acc: 1.0000 - val_loss: 0.2365 - val_acc: 0.9226\n",
            "Epoch 41/128\n",
            "8/8 [==============================] - 3s 414ms/step - loss: 0.0894 - acc: 1.0000 - val_loss: 0.2290 - val_acc: 0.9350\n",
            "Epoch 42/128\n",
            "8/8 [==============================] - 3s 414ms/step - loss: 0.0883 - acc: 1.0000 - val_loss: 0.2197 - val_acc: 0.9443\n",
            "Epoch 43/128\n",
            "8/8 [==============================] - 3s 415ms/step - loss: 0.0871 - acc: 1.0000 - val_loss: 0.2626 - val_acc: 0.9102\n",
            "Epoch 44/128\n",
            "8/8 [==============================] - 3s 414ms/step - loss: 0.0867 - acc: 1.0000 - val_loss: 0.1803 - val_acc: 0.9690\n",
            "Epoch 45/128\n",
            "8/8 [==============================] - 3s 414ms/step - loss: 0.0856 - acc: 1.0000 - val_loss: 0.2184 - val_acc: 0.9350\n",
            "Epoch 46/128\n",
            "8/8 [==============================] - 3s 414ms/step - loss: 0.0848 - acc: 1.0000 - val_loss: 0.1552 - val_acc: 0.9907\n",
            "Epoch 47/128\n",
            "8/8 [==============================] - 3s 415ms/step - loss: 0.0836 - acc: 1.0000 - val_loss: 0.1907 - val_acc: 0.9659\n",
            "Epoch 48/128\n",
            "8/8 [==============================] - 3s 414ms/step - loss: 0.0830 - acc: 1.0000 - val_loss: 0.1494 - val_acc: 0.9907\n",
            "Epoch 49/128\n",
            "8/8 [==============================] - 3s 415ms/step - loss: 0.0825 - acc: 1.0000 - val_loss: 0.1386 - val_acc: 0.9938\n",
            "Epoch 50/128\n",
            "8/8 [==============================] - 3s 415ms/step - loss: 0.0820 - acc: 1.0000 - val_loss: 0.1418 - val_acc: 0.9938\n",
            "Epoch 51/128\n",
            "8/8 [==============================] - 3s 414ms/step - loss: 0.0813 - acc: 1.0000 - val_loss: 0.1772 - val_acc: 0.9752\n",
            "Epoch 52/128\n",
            "8/8 [==============================] - 3s 414ms/step - loss: 0.0805 - acc: 1.0000 - val_loss: 0.1272 - val_acc: 1.0000\n",
            "Epoch 53/128\n",
            "8/8 [==============================] - 3s 414ms/step - loss: 0.0801 - acc: 1.0000 - val_loss: 0.1527 - val_acc: 0.9876\n",
            "Epoch 54/128\n",
            "8/8 [==============================] - 3s 415ms/step - loss: 0.0790 - acc: 1.0000 - val_loss: 0.1224 - val_acc: 1.0000\n",
            "Epoch 55/128\n",
            "8/8 [==============================] - 3s 416ms/step - loss: 0.0784 - acc: 1.0000 - val_loss: 0.1175 - val_acc: 1.0000\n",
            "Epoch 56/128\n",
            "8/8 [==============================] - 3s 413ms/step - loss: 0.0776 - acc: 1.0000 - val_loss: 0.1116 - val_acc: 1.0000\n",
            "Epoch 57/128\n",
            "8/8 [==============================] - 3s 414ms/step - loss: 0.0772 - acc: 1.0000 - val_loss: 0.1090 - val_acc: 1.0000\n",
            "Epoch 58/128\n",
            "8/8 [==============================] - 3s 414ms/step - loss: 0.0766 - acc: 1.0000 - val_loss: 0.1259 - val_acc: 0.9938\n",
            "Epoch 59/128\n",
            "8/8 [==============================] - 3s 414ms/step - loss: 0.0765 - acc: 1.0000 - val_loss: 0.1064 - val_acc: 1.0000\n",
            "Epoch 60/128\n",
            "8/8 [==============================] - 3s 413ms/step - loss: 0.0754 - acc: 1.0000 - val_loss: 0.1048 - val_acc: 1.0000\n",
            "Epoch 61/128\n",
            "8/8 [==============================] - 3s 417ms/step - loss: 0.0750 - acc: 1.0000 - val_loss: 0.1048 - val_acc: 1.0000\n",
            "Epoch 62/128\n",
            "8/8 [==============================] - 3s 414ms/step - loss: 0.0745 - acc: 1.0000 - val_loss: 0.1198 - val_acc: 1.0000\n",
            "Epoch 63/128\n",
            "8/8 [==============================] - 3s 415ms/step - loss: 0.0740 - acc: 1.0000 - val_loss: 0.1188 - val_acc: 0.9969\n",
            "Epoch 64/128\n",
            "8/8 [==============================] - 3s 415ms/step - loss: 0.0731 - acc: 1.0000 - val_loss: 0.1144 - val_acc: 1.0000\n",
            "Epoch 65/128\n",
            "8/8 [==============================] - 3s 415ms/step - loss: 0.0728 - acc: 1.0000 - val_loss: 0.0987 - val_acc: 1.0000\n",
            "Epoch 66/128\n",
            "8/8 [==============================] - 3s 413ms/step - loss: 0.0722 - acc: 1.0000 - val_loss: 0.0953 - val_acc: 1.0000\n",
            "Epoch 67/128\n",
            "8/8 [==============================] - 3s 413ms/step - loss: 0.0718 - acc: 1.0000 - val_loss: 0.0954 - val_acc: 1.0000\n",
            "Epoch 68/128\n",
            "8/8 [==============================] - 3s 413ms/step - loss: 0.0713 - acc: 1.0000 - val_loss: 0.0939 - val_acc: 1.0000\n",
            "Epoch 69/128\n",
            "8/8 [==============================] - 3s 414ms/step - loss: 0.0707 - acc: 1.0000 - val_loss: 0.1003 - val_acc: 1.0000\n",
            "Epoch 70/128\n",
            "8/8 [==============================] - 3s 413ms/step - loss: 0.0703 - acc: 1.0000 - val_loss: 0.0998 - val_acc: 1.0000\n",
            "Epoch 71/128\n",
            "8/8 [==============================] - 3s 412ms/step - loss: 0.0700 - acc: 1.0000 - val_loss: 0.0921 - val_acc: 1.0000\n",
            "Epoch 72/128\n",
            "8/8 [==============================] - 3s 413ms/step - loss: 0.0695 - acc: 1.0000 - val_loss: 0.0961 - val_acc: 1.0000\n",
            "Epoch 73/128\n",
            "8/8 [==============================] - 3s 414ms/step - loss: 0.0689 - acc: 1.0000 - val_loss: 0.0897 - val_acc: 1.0000\n",
            "Epoch 74/128\n",
            "8/8 [==============================] - 3s 414ms/step - loss: 0.0682 - acc: 1.0000 - val_loss: 0.0931 - val_acc: 1.0000\n",
            "Epoch 75/128\n",
            "8/8 [==============================] - 3s 413ms/step - loss: 0.0676 - acc: 1.0000 - val_loss: 0.0886 - val_acc: 1.0000\n",
            "Epoch 76/128\n",
            "8/8 [==============================] - 3s 414ms/step - loss: 0.0675 - acc: 1.0000 - val_loss: 0.0892 - val_acc: 1.0000\n",
            "Epoch 77/128\n",
            "8/8 [==============================] - 3s 412ms/step - loss: 0.0672 - acc: 1.0000 - val_loss: 0.0901 - val_acc: 1.0000\n",
            "Epoch 78/128\n",
            "8/8 [==============================] - 3s 414ms/step - loss: 0.0668 - acc: 1.0000 - val_loss: 0.0974 - val_acc: 1.0000\n",
            "Epoch 79/128\n",
            "8/8 [==============================] - 3s 414ms/step - loss: 0.0659 - acc: 1.0000 - val_loss: 0.0887 - val_acc: 1.0000\n",
            "Epoch 80/128\n",
            "8/8 [==============================] - 3s 414ms/step - loss: 0.0654 - acc: 1.0000 - val_loss: 0.0877 - val_acc: 1.0000\n",
            "Epoch 81/128\n",
            "8/8 [==============================] - 3s 414ms/step - loss: 0.0654 - acc: 1.0000 - val_loss: 0.0866 - val_acc: 1.0000\n",
            "Epoch 82/128\n",
            "8/8 [==============================] - 3s 413ms/step - loss: 0.0648 - acc: 1.0000 - val_loss: 0.0851 - val_acc: 1.0000\n",
            "Epoch 83/128\n",
            "8/8 [==============================] - 3s 413ms/step - loss: 0.0644 - acc: 1.0000 - val_loss: 0.0886 - val_acc: 1.0000\n",
            "Epoch 84/128\n",
            "8/8 [==============================] - 3s 412ms/step - loss: 0.0638 - acc: 1.0000 - val_loss: 0.0829 - val_acc: 1.0000\n",
            "Epoch 85/128\n",
            "8/8 [==============================] - 3s 411ms/step - loss: 0.0636 - acc: 1.0000 - val_loss: 0.0826 - val_acc: 1.0000\n",
            "Epoch 86/128\n",
            "8/8 [==============================] - 3s 413ms/step - loss: 0.0631 - acc: 1.0000 - val_loss: 0.0818 - val_acc: 1.0000\n",
            "Epoch 87/128\n",
            "8/8 [==============================] - 3s 412ms/step - loss: 0.0629 - acc: 1.0000 - val_loss: 0.0816 - val_acc: 1.0000\n",
            "Epoch 88/128\n",
            "8/8 [==============================] - 3s 410ms/step - loss: 0.0622 - acc: 1.0000 - val_loss: 0.0845 - val_acc: 1.0000\n",
            "Epoch 89/128\n",
            "8/8 [==============================] - 3s 412ms/step - loss: 0.0617 - acc: 1.0000 - val_loss: 0.0800 - val_acc: 1.0000\n",
            "Epoch 90/128\n",
            "8/8 [==============================] - 3s 412ms/step - loss: 0.0612 - acc: 1.0000 - val_loss: 0.0795 - val_acc: 1.0000\n",
            "Epoch 91/128\n",
            "8/8 [==============================] - 3s 413ms/step - loss: 0.0613 - acc: 1.0000 - val_loss: 0.0809 - val_acc: 1.0000\n",
            "Epoch 92/128\n",
            "8/8 [==============================] - 3s 413ms/step - loss: 0.0606 - acc: 1.0000 - val_loss: 0.0777 - val_acc: 1.0000\n",
            "Epoch 93/128\n",
            "8/8 [==============================] - 3s 413ms/step - loss: 0.0605 - acc: 1.0000 - val_loss: 0.0772 - val_acc: 1.0000\n",
            "Epoch 94/128\n",
            "8/8 [==============================] - 3s 411ms/step - loss: 0.0598 - acc: 1.0000 - val_loss: 0.0761 - val_acc: 1.0000\n",
            "Epoch 95/128\n",
            "8/8 [==============================] - 3s 414ms/step - loss: 0.0593 - acc: 1.0000 - val_loss: 0.0770 - val_acc: 1.0000\n",
            "Epoch 96/128\n",
            "8/8 [==============================] - 3s 413ms/step - loss: 0.0592 - acc: 1.0000 - val_loss: 0.0750 - val_acc: 1.0000\n",
            "Epoch 97/128\n",
            "8/8 [==============================] - 3s 413ms/step - loss: 0.0588 - acc: 1.0000 - val_loss: 0.0762 - val_acc: 1.0000\n",
            "Epoch 98/128\n",
            "8/8 [==============================] - 3s 411ms/step - loss: 0.0585 - acc: 1.0000 - val_loss: 0.0747 - val_acc: 1.0000\n",
            "Epoch 99/128\n",
            "8/8 [==============================] - 3s 411ms/step - loss: 0.0582 - acc: 1.0000 - val_loss: 0.0746 - val_acc: 1.0000\n",
            "Epoch 100/128\n",
            "8/8 [==============================] - 3s 410ms/step - loss: 0.0578 - acc: 1.0000 - val_loss: 0.0756 - val_acc: 1.0000\n",
            "Epoch 101/128\n",
            "8/8 [==============================] - 3s 412ms/step - loss: 0.0576 - acc: 1.0000 - val_loss: 0.0732 - val_acc: 1.0000\n",
            "Epoch 102/128\n",
            "8/8 [==============================] - 3s 411ms/step - loss: 0.0572 - acc: 1.0000 - val_loss: 0.0728 - val_acc: 1.0000\n",
            "Epoch 103/128\n",
            "8/8 [==============================] - 3s 411ms/step - loss: 0.0568 - acc: 1.0000 - val_loss: 0.0741 - val_acc: 1.0000\n",
            "Epoch 104/128\n",
            "8/8 [==============================] - 3s 412ms/step - loss: 0.0563 - acc: 1.0000 - val_loss: 0.0720 - val_acc: 1.0000\n",
            "Epoch 105/128\n",
            "8/8 [==============================] - 3s 411ms/step - loss: 0.0562 - acc: 1.0000 - val_loss: 0.0715 - val_acc: 1.0000\n",
            "Epoch 106/128\n",
            "8/8 [==============================] - 3s 411ms/step - loss: 0.0554 - acc: 1.0000 - val_loss: 0.0718 - val_acc: 1.0000\n",
            "Epoch 107/128\n",
            "8/8 [==============================] - 3s 411ms/step - loss: 0.0552 - acc: 1.0000 - val_loss: 0.0721 - val_acc: 1.0000\n",
            "Epoch 108/128\n",
            "8/8 [==============================] - 3s 412ms/step - loss: 0.0552 - acc: 1.0000 - val_loss: 0.0720 - val_acc: 1.0000\n",
            "Epoch 109/128\n",
            "8/8 [==============================] - 3s 411ms/step - loss: 0.0548 - acc: 1.0000 - val_loss: 0.0702 - val_acc: 1.0000\n",
            "Epoch 110/128\n",
            "8/8 [==============================] - 3s 411ms/step - loss: 0.0544 - acc: 1.0000 - val_loss: 0.0701 - val_acc: 1.0000\n",
            "Epoch 111/128\n",
            "8/8 [==============================] - 3s 411ms/step - loss: 0.0539 - acc: 1.0000 - val_loss: 0.0696 - val_acc: 1.0000\n",
            "Epoch 112/128\n",
            "8/8 [==============================] - 3s 411ms/step - loss: 0.0535 - acc: 1.0000 - val_loss: 0.0698 - val_acc: 1.0000\n",
            "Epoch 113/128\n",
            "8/8 [==============================] - 3s 410ms/step - loss: 0.0533 - acc: 1.0000 - val_loss: 0.0691 - val_acc: 1.0000\n",
            "Epoch 114/128\n",
            "8/8 [==============================] - 3s 411ms/step - loss: 0.0531 - acc: 1.0000 - val_loss: 0.0683 - val_acc: 1.0000\n",
            "Epoch 115/128\n",
            "8/8 [==============================] - 3s 412ms/step - loss: 0.0525 - acc: 1.0000 - val_loss: 0.0678 - val_acc: 1.0000\n",
            "Epoch 116/128\n",
            "8/8 [==============================] - 3s 412ms/step - loss: 0.0523 - acc: 1.0000 - val_loss: 0.0673 - val_acc: 1.0000\n",
            "Epoch 117/128\n",
            "8/8 [==============================] - 3s 411ms/step - loss: 0.0522 - acc: 1.0000 - val_loss: 0.0674 - val_acc: 1.0000\n",
            "Epoch 118/128\n",
            "8/8 [==============================] - 3s 411ms/step - loss: 0.0517 - acc: 1.0000 - val_loss: 0.0665 - val_acc: 1.0000\n",
            "Epoch 119/128\n",
            "8/8 [==============================] - 3s 411ms/step - loss: 0.0514 - acc: 1.0000 - val_loss: 0.0658 - val_acc: 1.0000\n",
            "Epoch 120/128\n",
            "8/8 [==============================] - 3s 411ms/step - loss: 0.0513 - acc: 1.0000 - val_loss: 0.0658 - val_acc: 1.0000\n",
            "Epoch 121/128\n",
            "8/8 [==============================] - 3s 411ms/step - loss: 0.0510 - acc: 1.0000 - val_loss: 0.0655 - val_acc: 1.0000\n",
            "Epoch 122/128\n",
            "8/8 [==============================] - 3s 411ms/step - loss: 0.0504 - acc: 1.0000 - val_loss: 0.0656 - val_acc: 1.0000\n",
            "Epoch 123/128\n",
            "8/8 [==============================] - 3s 411ms/step - loss: 0.0505 - acc: 1.0000 - val_loss: 0.0648 - val_acc: 1.0000\n",
            "Epoch 124/128\n",
            "8/8 [==============================] - 3s 412ms/step - loss: 0.0499 - acc: 1.0000 - val_loss: 0.0645 - val_acc: 1.0000\n",
            "Epoch 125/128\n",
            "8/8 [==============================] - 3s 411ms/step - loss: 0.0495 - acc: 1.0000 - val_loss: 0.0641 - val_acc: 1.0000\n",
            "Epoch 126/128\n",
            "8/8 [==============================] - 3s 412ms/step - loss: 0.0493 - acc: 1.0000 - val_loss: 0.0642 - val_acc: 1.0000\n",
            "Epoch 127/128\n",
            "8/8 [==============================] - 3s 412ms/step - loss: 0.0488 - acc: 1.0000 - val_loss: 0.0634 - val_acc: 1.0000\n",
            "Epoch 128/128\n",
            "8/8 [==============================] - 3s 411ms/step - loss: 0.0488 - acc: 1.0000 - val_loss: 0.0629 - val_acc: 1.0000\n"
          ],
          "name": "stdout"
        }
      ]
    },
    {
      "cell_type": "code",
      "metadata": {
        "id": "G0eaT8BldSFV",
        "colab_type": "code",
        "colab": {}
      },
      "source": [
        "#save weights (no need to run )\n",
        "steven_model.save_weights('/content/drive/My Drive/Brians_Signature_Verification_Project/steven.h5')"
      ],
      "execution_count": 0,
      "outputs": []
    },
    {
      "cell_type": "code",
      "metadata": {
        "id": "Xts3ekjRAjv4",
        "colab_type": "code",
        "colab": {}
      },
      "source": [
        "#create predictions: 0 for fake, 1 for real\n",
        "#pred is a list of probabilities from 0 to 1. This can be seperated into true/false with a simple \"<0.5\"\n",
        "pred = steven_model.predict([x_test[:,0], x_test[:,1]])"
      ],
      "execution_count": 0,
      "outputs": []
    },
    {
      "cell_type": "code",
      "metadata": {
        "id": "BhN2YmAJOqBz",
        "colab_type": "code",
        "colab": {}
      },
      "source": [
        "labels = {0:\"Fake\", 1:\"Real\"}"
      ],
      "execution_count": 0,
      "outputs": []
    },
    {
      "cell_type": "code",
      "metadata": {
        "id": "YgeUVj2Takuc",
        "colab_type": "code",
        "outputId": "02d58b8e-5e96-4bf1-ca51-60c96f67b463",
        "colab": {
          "base_uri": "https://localhost:8080/",
          "height": 208
        }
      },
      "source": [
        "#display accuracy\n",
        "# 0 = fake, 1 = real\n",
        "\n",
        "print(\"accuracy: \",(1-y_test[pred.ravel()<0.5].mean())*100, \"%\")\n",
        "\n",
        "# count = 0\n",
        "# for x in range(len(b)):\n",
        "#   if b[x] == np.round(a[x],0):\n",
        "#     count = count + 1\n",
        "# print(\"accuarcy: \", count/len(b)*100, \"%\")\n",
        "\n",
        "num_display = 10 #@param {type: \"integer\"}\n",
        "for x in range(num_display):\n",
        "  print(\"Prediction: \", labels[int(np.round(pred[x], 0))], \" Reference: \", labels[int(y_test[x])])"
      ],
      "execution_count": 0,
      "outputs": [
        {
          "output_type": "stream",
          "text": [
            "accuracy:  100.0 %\n",
            "Prediction:  Fake  Reference:  Fake\n",
            "Prediction:  Real  Reference:  Real\n",
            "Prediction:  Real  Reference:  Real\n",
            "Prediction:  Real  Reference:  Real\n",
            "Prediction:  Fake  Reference:  Fake\n",
            "Prediction:  Fake  Reference:  Fake\n",
            "Prediction:  Real  Reference:  Real\n",
            "Prediction:  Real  Reference:  Real\n",
            "Prediction:  Real  Reference:  Real\n",
            "Prediction:  Fake  Reference:  Fake\n"
          ],
          "name": "stdout"
        }
      ]
    },
    {
      "cell_type": "code",
      "metadata": {
        "id": "QBk5_3T4_lTL",
        "colab_type": "code",
        "colab": {}
      },
      "source": [
        "def show_prediction(x_test, y_test, pred, ind = None):\n",
        "  #displays an image pair and predicted/reference value given index (random if none provided)\n",
        "  #I couldn't figure out subplots to display them side by side so they go up-down and only one at a time\n",
        "  if ind == None:\n",
        "    ind = np.random.randint(0, len(pred))\n",
        "\n",
        "  ref_img = plt.plot()\n",
        "  plt.axis('off')\n",
        "  plt.imshow(x_test[ind,0,:,:,0], cmap = \"gray\")\n",
        "  #note that the first one of every pair is always real - that is what the second image is being compared against\n",
        "  title = \"Reference #\" + str(ind) +  \" \" + \"(Real)\"\n",
        "  plt.title(title)\n",
        "  plt.show()\n",
        "\n",
        "  questioned_img = plt.plot()\n",
        "  plt.axis('off')\n",
        "  plt.imshow(x_test[ind,1,:,:,0], cmap = \"gray\")\n",
        "  #the second image is questioned: \"unknown\". \n",
        "  title = \"Questioned  #\" + str(ind) +  \"\\n\\n \" + \"  Predicted Value: \" + labels[int(np.round(pred[ind], 0))] + \"  Actual: \"+ labels[int(y_test[ind])] \n",
        "  plt.title(title)\n",
        "  plt.show()\n",
        "  certainty = np.abs(pred[ind]-0.5)/0.50\n",
        "  print(\"Certainty: \", certainty*100, \"%\")"
      ],
      "execution_count": 0,
      "outputs": []
    },
    {
      "cell_type": "code",
      "metadata": {
        "id": "dBVdUqWNDGqa",
        "colab_type": "code",
        "outputId": "d9031aa3-75a1-491a-8b82-2103cbc09901",
        "colab": {
          "base_uri": "https://localhost:8080/",
          "height": 558
        }
      },
      "source": [
        "show_prediction(x_test, y_test, pred)"
      ],
      "execution_count": 0,
      "outputs": [
        {
          "output_type": "display_data",
          "data": {
            "image/png": "[encoded data removed]",
            "text/plain": [
              "<Figure size 432x288 with 1 Axes>"
            ]
          },
          "metadata": {
            "tags": []
          }
        },
        {
          "output_type": "display_data",
          "data": {
            "image/png": "[encoded data removed]",
            "text/plain": [
              "<Figure size 432x288 with 1 Axes>"
            ]
          },
          "metadata": {
            "tags": []
          }
        },
        {
          "output_type": "stream",
          "text": [
            "Certainty:  [88.857796] %\n"
          ],
          "name": "stdout"
        }
      ]
    },
    {
      "cell_type": "markdown",
      "metadata": {
        "id": "H-hOKLNyG5yC",
        "colab_type": "text"
      },
      "source": [
        "the first image is always real: it is the reference against which the questioned image is compared against. The predicted value is the real/fake predicted by the network, while the actual value is the known value."
      ]
    },
    {
      "cell_type": "code",
      "metadata": {
        "id": "Mvm9T_yFX7_A",
        "colab_type": "code",
        "outputId": "1ca9de9c-600c-4413-bc9d-c33a75d1f01b",
        "colab": {
          "base_uri": "https://localhost:8080/",
          "height": 572
        }
      },
      "source": [
        "# Plot training & validation accuracy values\n",
        "plt.plot(history.history['acc'])\n",
        "plt.plot(history.history['val_acc'])\n",
        "plt.title('Model accuracy')\n",
        "plt.ylabel('Accuracy')\n",
        "plt.xlabel('Epoch')\n",
        "plt.legend(['Train', 'Test'], loc='upper left')\n",
        "plt.show()\n",
        "\n",
        "# Plot training & validation loss values\n",
        "plt.plot(history.history['loss'])\n",
        "plt.plot(history.history['val_loss'])\n",
        "plt.title('Model loss')\n",
        "plt.ylabel('Loss')\n",
        "plt.xlabel('Epoch')\n",
        "plt.legend(['Train', 'Test'], loc='upper left')\n",
        "plt.show()"
      ],
      "execution_count": 0,
      "outputs": [
        {
          "output_type": "display_data",
          "data": {
            "image/png": "[encoded data removed]",
            "text/plain": [
              "<Figure size 432x288 with 1 Axes>"
            ]
          },
          "metadata": {
            "tags": []
          }
        },
        {
          "output_type": "display_data",
          "data": {
            "image/png": "[encoded data removed]",
            "text/plain": [
              "<Figure size 432x288 with 1 Axes>"
            ]
          },
          "metadata": {
            "tags": []
          }
        }
      ]
    },
    {
      "cell_type": "markdown",
      "metadata": {
        "id": "TGilcYbmGFgX",
        "colab_type": "text"
      },
      "source": [
        "the test accuracy trends can be explained by the model initially overfitting to training data"
      ]
    },
    {
      "cell_type": "markdown",
      "metadata": {
        "id": "Mn_9BfbCY8YZ",
        "colab_type": "text"
      },
      "source": [
        "Verifying Mr. Ark's forgery\n"
      ]
    },
    {
      "cell_type": "code",
      "metadata": {
        "id": "TXB9Z8MXYShJ",
        "colab_type": "code",
        "colab": {}
      },
      "source": [
        "forgeries = load_data(\"/content/dataset/ProcessedForgeries\", shape = shape)/255\n",
        "genuine = load_data(\"/content/dataset/ProcessedGenuine\", shape = shape)/255"
      ],
      "execution_count": 0,
      "outputs": []
    },
    {
      "cell_type": "code",
      "metadata": {
        "id": "hC2objiFT9yc",
        "colab_type": "code",
        "outputId": "3b3356f2-fe1b-4279-b2e7-cd361f9f44c2",
        "colab": {
          "base_uri": "https://localhost:8080/",
          "height": 281
        }
      },
      "source": [
        "#this is mr.ark's forgery\n",
        "#make ark pairs\n",
        "#ark = #21\n",
        "arkfake = forgeries[21]\n",
        "show_img(arkfake.reshape(shape[0], shape[1]), title = \"Mr. Ark's Forgery\")\n",
        "\n",
        "num_ark = 12 #@param {type: \"integer\"}\n",
        "\n",
        "arkpair = np.zeros(shape = (num_ark, 2, shape[0], shape[1], 1))\n",
        "arky = np.zeros(shape = (num_ark, 1))\n",
        "\n",
        "for x in range(num_ark):\n",
        "      img_1 = genuine[np.random.randint(0,genuine.shape[0])]\n",
        "      arkpair[x, 0, :, :, 0] = img_1.reshape(shape[0], shape[1])\n",
        "      arkpair[x, 1, :, :, 0] = arkfake.reshape((shape[0], shape[1]))\n",
        "      arky[x] = 0\n"
      ],
      "execution_count": 0,
      "outputs": [
        {
          "output_type": "display_data",
          "data": {
            "image/png": "[encoded data removed]",
            "text/plain": [
              "<Figure size 432x288 with 1 Axes>"
            ]
          },
          "metadata": {
            "tags": []
          }
        }
      ]
    },
    {
      "cell_type": "code",
      "metadata": {
        "id": "chEIc71vQT75",
        "colab_type": "code",
        "colab": {}
      },
      "source": [
        "arkpred = steven_model.predict(x = [arkpair[:,0], arkpair[:,1]])"
      ],
      "execution_count": 0,
      "outputs": []
    },
    {
      "cell_type": "code",
      "metadata": {
        "id": "RtB8_uAwYxnv",
        "colab_type": "code",
        "outputId": "6b3fbb44-0a13-4007-e472-f880214660fe",
        "colab": {
          "base_uri": "https://localhost:8080/",
          "height": 559
        }
      },
      "source": [
        "show_prediction(arkpair, arky, arkpred)"
      ],
      "execution_count": 0,
      "outputs": [
        {
          "output_type": "display_data",
          "data": {
            "image/png": "[encoded data removed]",
            "text/plain": [
              "<Figure size 432x288 with 1 Axes>"
            ]
          },
          "metadata": {
            "tags": []
          }
        },
        {
          "output_type": "display_data",
          "data": {
            "image/png": "[encoded data removed]",
            "text/plain": [
              "<Figure size 432x288 with 1 Axes>"
            ]
          },
          "metadata": {
            "tags": []
          }
        },
        {
          "output_type": "stream",
          "text": [
            "Certainty:  [97.46026] %\n"
          ],
          "name": "stdout"
        }
      ]
    },
    {
      "cell_type": "code",
      "metadata": {
        "id": "gjUk-YEthTCD",
        "colab_type": "code",
        "colab": {}
      },
      "source": [
        ""
      ],
      "execution_count": 0,
      "outputs": []
    }
  ]
}