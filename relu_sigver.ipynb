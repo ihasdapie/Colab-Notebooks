{
  "nbformat": 4,
  "nbformat_minor": 0,
  "metadata": {
    "colab": {
      "name": "relu_sigver.ipynb",
      "provenance": [],
      "collapsed_sections": [],
      "machine_shape": "hm",
      "include_colab_link": true
    },
    "kernelspec": {
      "name": "python3",
      "display_name": "Python 3"
    },
    "accelerator": "GPU"
  },
  "cells": [
    {
      "cell_type": "markdown",
      "metadata": {
        "id": "view-in-github",
        "colab_type": "text"
      },
      "source": [
        "<a href=\"https://colab.research.google.com/github/ihasdapie/Colab-Notebooks/blob/master/relu_sigver.ipynb\" target=\"_parent\"><img src=\"https://colab.research.google.com/assets/colab-badge.svg\" alt=\"Open In Colab\"/></a>"
      ]
    },
    {
      "cell_type": "code",
      "metadata": {
        "id": "JZPJdQ82pFe7",
        "colab_type": "code",
        "outputId": "e9e43fa3-ba16-410d-db9c-df825d220846",
        "colab": {
          "base_uri": "https://localhost:8080/",
          "height": 127
        }
      },
      "source": [
        "from google.colab import drive\n",
        "\n",
        "drive.mount('/content/drive')"
      ],
      "execution_count": 0,
      "outputs": [
        {
          "output_type": "stream",
          "text": [
            "Go to this URL in a browser: https://accounts.google.com/o/oauth2/auth?client_id=947318989803-6bn6qk8qdgf4n4g3pfee6491hc0brc4i.apps.googleusercontent.com&redirect_uri=urn%3aietf%3awg%3aoauth%3a2.0%3aoob&response_type=code&scope=email%20https%3a%2f%2fwww.googleapis.com%2fauth%2fdocs.test%20https%3a%2f%2fwww.googleapis.com%2fauth%2fdrive%20https%3a%2f%2fwww.googleapis.com%2fauth%2fdrive.photos.readonly%20https%3a%2f%2fwww.googleapis.com%2fauth%2fpeopleapi.readonly\n",
            "\n",
            "Enter your authorization code:\n",
            "··········\n",
            "Mounted at /content/drive\n"
          ],
          "name": "stdout"
        }
      ]
    },
    {
      "cell_type": "code",
      "metadata": {
        "id": "Lh203NNt1VKj",
        "colab_type": "code",
        "colab": {}
      },
      "source": [
        "!wget http://www.iapr-tc11.org/dataset/4NSigComp2010/Dataset_4NSigComp2010.zip"
      ],
      "execution_count": 0,
      "outputs": []
    },
    {
      "cell_type": "code",
      "metadata": {
        "id": "oJPG_04K1fqE",
        "colab_type": "code",
        "colab": {}
      },
      "source": [
        "#maybe play with this later? For submission to ark.\n",
        "import zipfile\n",
        "z = zipfile.ZipFile('/content/sigComp2011-trainingSet.zip', 'r')\n",
        "z.setpassword(b\"I hereby accept the SigComp 2010 disclaimer.\") #turn string into bytes to resolve TypeError\n",
        "z.extractall('/content/')\n",
        "z.close()"
      ],
      "execution_count": 0,
      "outputs": []
    },
    {
      "cell_type": "code",
      "metadata": {
        "id": "oz-HNZUvlats",
        "colab_type": "code",
        "cellView": "both",
        "colab": {}
      },
      "source": [
        "#@title Parameters\n",
        "#some parameters \n",
        "\n",
        "num_eval = 10 #@param {type: \"integer\"}\n",
        "num_batch = 16 #@param {type: \"integer\"}\n",
        "num_iterations = 993 #@param {type: \"integer\"}\n",
        "num_validations = 250 #@param {type: \"integer\"}\n",
        "num_pairs = 5000 #@param {type: \"integer\"}\n",
        "learning_rate = 0.01 #@param {type: \"number\"}\n",
        "h = 100 #@param {type: \"integer\"}\n",
        "w = 120 #@param {type: \"integer\"}\n",
        "shape = (h, w, 1)"
      ],
      "execution_count": 0,
      "outputs": []
    },
    {
      "cell_type": "code",
      "metadata": {
        "id": "YoTim5cLpIBa",
        "colab_type": "code",
        "outputId": "56eeeede-5338-48ab-fa97-7c80c9ed8e4e",
        "colab": {
          "base_uri": "https://localhost:8080/",
          "height": 82
        }
      },
      "source": [
        "import keras\n",
        "from keras.preprocessing.image import img_to_array, load_img\n",
        "import os\n",
        "from matplotlib import pyplot as plt\n",
        "import sklearn.metrics\n",
        "import numpy as np\n",
        "import cv2\n",
        "from keras import Sequential\n",
        "from keras.layers import Dense, Dropout, Input, Lambda, Flatten, Convolution2D, MaxPooling2D, ZeroPadding2D\n",
        "from keras import backend\n",
        "from keras.layers.advanced_activations import LeakyReLU\n",
        "from keras.layers import BatchNormalization\n",
        "from keras.activations import sigmoid\n",
        "#import cupy as cp\n",
        "from keras.regularizers import l2\n",
        "# from keras.engine.topology import Layer\n",
        "from keras.layers import Layer #or do i have to use the keras.engine.topolgy? will see.\n",
        "from keras.utils import to_categorical, plot_model\n",
        "from keras.models import Model\n",
        "from keras.optimizers import Adam\n",
        "import time\n",
        "from keras.utils import Sequence\n",
        "from sklearn.model_selection import train_test_split\n",
        "from sklearn.metrics import accuracy_score\n",
        "# plt.xkcd()\n",
        "import tensorflow as tf\n",
        "config = tf.ConfigProto()\n",
        "config.gpu_options.allow_growth = True\n",
        "session = tf.Session(config=config)"
      ],
      "execution_count": 0,
      "outputs": [
        {
          "output_type": "stream",
          "text": [
            "Using TensorFlow backend.\n"
          ],
          "name": "stderr"
        },
        {
          "output_type": "display_data",
          "data": {
            "text/html": [
              "<p style=\"color: red;\">\n",
              "The default version of TensorFlow in Colab will soon switch to TensorFlow 2.x.<br>\n",
              "We recommend you <a href=\"https://www.tensorflow.org/guide/migrate\" target=\"_blank\">upgrade</a> now \n",
              "or ensure your notebook will continue to use TensorFlow 1.x via the <code>%tensorflow_version 1.x</code> magic:\n",
              "<a href=\"https://colab.research.google.com/notebooks/tensorflow_version.ipynb\" target=\"_blank\">more info</a>.</p>\n"
            ],
            "text/plain": [
              "<IPython.core.display.HTML object>"
            ]
          },
          "metadata": {
            "tags": []
          }
        }
      ]
    },
    {
      "cell_type": "code",
      "metadata": {
        "id": "PptikgaQbcBb",
        "colab_type": "code",
        "cellView": "both",
        "colab": {}
      },
      "source": [
        "#@title pre_process_data(dir, h, w):\n",
        "def pre_process_data(dir, h, w):\n",
        "#returns X_array w/ superimposed centroids & bounding boxes, labels\n",
        "\n",
        "#load images in grayscale, resize, turn to array\n",
        "\n",
        "  grayscale_img_array = [(img_to_array(load_img(dir+\"/\"+x, color_mode = \"grayscale\", target_size = (h,w)))) for x in os.listdir(dir)]\n",
        "\n",
        "#try using openCV imread\n",
        "\n",
        "  # grayscale_img_array = [cv2.imread(img, cv2.IMREAD_GRAYSCALE) for img in os.listdir(dir)]\n",
        "  # cv2_imshow(grayscale_img_array[1])\n",
        "\n",
        "  grayscale_img_array=[(cv2.convertScaleAbs(img)) for img in grayscale_img_array] #convert to uint8 format\n",
        "#Thresholded images are used to find the weighted centroids of each image. \n",
        "#Thresholding is unnecessary but it was a learning experience. \n",
        "\n",
        "  thresholded_img_array = [cv2.threshold(img, 170,255,cv2.THRESH_BINARY_INV) for img in grayscale_img_array] #threshold binary is set higher that 127 due to image faintness\n",
        "  thresholded_img_array = [thresh[1] for thresh in thresholded_img_array] #threshold returns (ret, thresh). Only thresh is needed.\n",
        "\n",
        "  img_moments = [cv2.moments(thresh) for thresh in thresholded_img_array] #\"center of mass\" of image. This can be used to find the centroid of the image. \n",
        "\n",
        "  center_x_pos = [int(m[\"m10\"] / m[\"m00\"]) for m in img_moments]\n",
        "  center_y_pos = [int(m[\"m01\"] / m[\"m00\"]) for m in img_moments]\n",
        "\n",
        "# add \"crosshair\" to center of grayscale images\n",
        "# is there a way to do this in one line?\n",
        "\n",
        "  for x in range(len(grayscale_img_array)):\n",
        "    (grayscale_img_array[x])[:, center_x_pos[x]] = 0\n",
        "    (grayscale_img_array[x])[center_y_pos[x], :] = 0\n",
        "\n",
        "#add bounding box to grayscale images\n",
        " \n",
        "  img_contour_array = [cv2.findContours(thresh, cv2.RETR_EXTERNAL, cv2.CHAIN_APPROX_SIMPLE) for thresh in thresholded_img_array]\n",
        "\n",
        "\n",
        "  for i in range(len(grayscale_img_array)):\n",
        "    x,y,w,h= cv2.boundingRect(img_contour_array[i][0])\n",
        "    grayscale_img_array[i] = cv2.rectangle(grayscale_img_array[i],(x,y),(x+w,y+h),(0,255,0),1)\n",
        "#get filenames\n",
        "  labels = [x.split(\".\")[0] for x in os.listdir(dir)]\n",
        "  return grayscale_img_array, labels\n"
      ],
      "execution_count": 0,
      "outputs": []
    },
    {
      "cell_type": "code",
      "metadata": {
        "id": "1byHP75f-ZVB",
        "colab_type": "code",
        "colab": {}
      },
      "source": [
        "def save_img_to_dir(img_array, dir, label):\n",
        "  for x in range(len(img_array)):\n",
        "    cv2.imwrite(dir+\"/\"+label+str(x)+\".png\", img_array[x])"
      ],
      "execution_count": 0,
      "outputs": []
    },
    {
      "cell_type": "code",
      "metadata": {
        "id": "34d03kkOcqd8",
        "colab_type": "code",
        "cellView": "form",
        "colab": {}
      },
      "source": [
        "#@title process_and_save()\n",
        "def process_and_save():\n",
        "#Filenames:\n",
        "#genuine: \"Gxxx\" = real signatures\n",
        "#refrence: \"Rxxx\"= signautres used as a reference for the forgers - can be used as trainingset\n",
        "#simualted: \"Sxxx\"= skilled forgeries\n",
        "#disguise: \"Dxxx\"= real signatures written in such a way to avoid being recognized\n",
        "\n",
        "#preprocess images\n",
        "\n",
        "  train_genuine_dir=\"/content/drive/My Drive/Dataset_4NSigComp2010/TrainingSet/Genuine\"\n",
        "  train_reference_dir =\"/content/drive/My Drive/Dataset_4NSigComp2010/TrainingSet/Reference\"\n",
        "  train_simulated_dir = \"/content/drive/My Drive/Dataset_4NSigComp2010/TrainingSet/Simulated\"\n",
        "  train_disguise_dir = \"/content/drive/My Drive/Dataset_4NSigComp2010/TrainingSet/Disguise\"\n",
        "\n",
        "  test_reference_dir = \"/content/drive/My Drive/Dataset_4NSigComp2010/TestSet/Reference\"\n",
        "  test_questioned_dir = \"/content/drive/My Drive/Dataset_4NSigComp2010/TestSet/Questioned\"\n",
        "\n",
        "  X_genuine, genuine_labels = pre_process_data(train_genuine_dir, h,w)\n",
        "  X_reference, reference_labels = pre_process_data(train_reference_dir, h, w)\n",
        "  X_simulated, simulated_labels = pre_process_data(train_simulated_dir, h, w)\n",
        "  X_disguise, disguise_labels = pre_process_data(train_disguise_dir, h, w)\n",
        "\n",
        "  test_X_reference, test_real_labels = pre_process_data(test_reference_dir, h, w)\n",
        "  test_X_questioned, test_questioned_labels = pre_process_data(test_questioned_dir, h, w)\n",
        "\n",
        "  training_real = X_genuine + X_reference + X_disguise\n",
        "\n",
        "  #saveto:\n",
        "\n",
        "  train_real_savedir = \"/content/drive/My Drive/Dataset_4NSigComp2010/ProcessedTrainingSet/Real\"\n",
        "  train_fake_savedir = \"/content/drive/My Drive/Dataset_4NSigComp2010/ProcessedTrainingSet/Fake\"\n",
        "\n",
        "  test_reference_savedir = \"/content/drive/My Drive/Dataset_4NSigComp2010/ProcessedTestingSet/Real\"\n",
        "  test_questioned_savedir = \"/content/drive/My Drive/Dataset_4NSigComp2010/ProcessedTestingSet/Questioned\"\n",
        "\n",
        "  save_img_to_dir(training_real, train_real_savedir, \"TrainReal\")\n",
        "  save_img_to_dir(X_simulated, train_fake_savedir, \"TrainFake\")\n",
        "\n",
        "  save_img_to_dir(test_X_reference, test_reference_savedir, \"TestRef\")\n",
        "  save_img_to_dir(test_X_questioned, test_questioned_savedir, \"TestQuestioned\")"
      ],
      "execution_count": 0,
      "outputs": []
    },
    {
      "cell_type": "code",
      "metadata": {
        "id": "8GMpzYKZFoln",
        "colab_type": "code",
        "colab": {}
      },
      "source": [
        "#run *ONCE* to process & save images\n",
        "process_and_save()"
      ],
      "execution_count": 0,
      "outputs": []
    },
    {
      "cell_type": "code",
      "metadata": {
        "id": "eA4exbp_mvrU",
        "colab_type": "code",
        "cellView": "both",
        "colab": {}
      },
      "source": [
        "#@title load_data(dir, shape, label):\n",
        "def load_data(dir, shape, label = \"nolabel\" ):\n",
        "\n",
        "  img_array = [cv2.convertScaleAbs(img_to_array(load_img(dir+\"/\"+x, color_mode = \"grayscale\", target_size=(shape[0:2])))) for x in os.listdir(dir)]\n",
        "  img_array = [img.reshape(shape) for img in img_array]\n",
        "  img_array = [cv2.threshold(img, 170,255,cv2.THRESH_BINARY_INV) for img in img_array] #threshold binary is set higher that 127 due to image faintness\n",
        "  img_array = [thresh[1] for thresh in img_array] #threshold returns (ret, thresh). Only thresh is needed.\n",
        "\n",
        "  img_array = np.asarray(img_array)\n",
        "  if label == \"nolabel\":\n",
        "    return img_array\n",
        "  else:\n",
        "    label_array = [label for x in range(len(img_array))]\n",
        "\n",
        "\n",
        "\n",
        "    #use numpy arrays instead.\n",
        "\n",
        "    # n_img = len(os.listdir(dir))\n",
        "\n",
        "    # img_array = np.zeros((n_img, 1))\n",
        "\n",
        "    # for x in os.listdir(dir):\n",
        "    #   np.append(img_array, cv2.convertScaleAbs(img_to_array(load_img(dir+\"/\"+x, color_mode = \"grayscale\" ))))\n",
        "    \n",
        "    # label_array = np.zeros((n_img, 1))\n",
        "\n",
        "    # for x in range(n_img):\n",
        "    #   np.append(label_array, label)\n",
        "\n",
        "    return img_array, label_array"
      ],
      "execution_count": 0,
      "outputs": []
    },
    {
      "cell_type": "code",
      "metadata": {
        "id": "_l8SFdDg3k7L",
        "colab_type": "code",
        "cellView": "both",
        "colab": {}
      },
      "source": [
        "#@title make_training_set(real,fake)\n",
        "def make_training_set(real_dir, fake_dir, shape, size):\n",
        "# return pairs & true/false labels\n",
        "\n",
        "  X_real = load_data(real_dir, shape)/255\n",
        "  X_fake = load_data(fake_dir, shape)/255\n",
        "# 1 = genuine pair\n",
        "# 0 = false pair\n",
        "\n",
        "# list of size size of 0,1 for genuine/fake pairs\n",
        "# 0 = real,real -> Y = 1 (true match)\n",
        "# 1 = real,fake -> Y = 0 (no match)\n",
        "\n",
        "#return_shape = (n_pairs, pairsize (2), h, w, 1)\n",
        "\n",
        "  X_train = np.zeros(shape = (size, 2, shape[0], shape[1], 1))\n",
        "  Y_train = np.zeros(shape = (size, 1))\n",
        "  seed = np.random.randint(0, 2, size = size)\n",
        "  for x in range(seed.shape[0]):\n",
        "    if seed[x] == 0:\n",
        "      img_1 = X_real[np.random.randint(0,X_real.shape[0])]\n",
        "      img_2 = X_real[np.random.randint(0,X_real.shape[0])]\n",
        "      X_train[x, 0, :, :, 0] = img_1.reshape(shape[0], shape[1])\n",
        "      X_train[x, 1, :, :, 0] = img_2.reshape(shape[0], shape[1])\n",
        "      Y_train[x] = 1\n",
        "\n",
        "    if seed[x] == 1:\n",
        "      img_1 = X_real[np.random.randint(0,X_real.shape[0])]\n",
        "      img_2 = X_fake[np.random.randint(0,X_fake.shape[0])]\n",
        "      X_train[x, 0, :, :, 0] = img_1.reshape(shape[0], shape[1])\n",
        "      X_train[x, 1, :, :, 0] = img_2.reshape(shape[0], shape[1])\n",
        "      Y_train[x] = 0\n",
        "\n",
        "  # Y_train = to_categorical(Y_train) #techically not necessary because everything is 0/1 already, but I wanted to do it.\n",
        "\n",
        "  return X_train, Y_train"
      ],
      "execution_count": 0,
      "outputs": []
    },
    {
      "cell_type": "code",
      "metadata": {
        "id": "e4Uu54-89pOP",
        "colab_type": "code",
        "cellView": "both",
        "colab": {}
      },
      "source": [
        "#@title create_network(shape):\n",
        "\n",
        "def create_network(shape):\n",
        "  net = Sequential()\n",
        "  #conv/fc layer -> batchnorm -> activation -> dropout\n",
        "  #using tensorflow backend, so dataformat = 'channels_last'\n",
        "  \n",
        "  net.add(Convolution2D(64,  kernel_size=(10,10), padding = 'valid', data_format = \"channels_last\",\n",
        "                        input_shape = shape, kernel_initializer= \"glorot_normal\", kernel_regularizer = l2(2e-4)))\n",
        "  net.add(BatchNormalization())\n",
        "  net.add(LeakyReLU(alpha = (0.3)))\n",
        "  net.add(MaxPooling2D(pool_size=(2,2)))\n",
        "  net.add(Dropout(0.3))\n",
        "  \n",
        "  net.add(Convolution2D(128,  kernel_size=(7,7), padding = 'valid', data_format = \"channels_last\", \n",
        "                        kernel_initializer= \"glorot_normal\", kernel_regularizer=l2(2e-4)))\n",
        "  net.add(BatchNormalization())\n",
        "  net.add(LeakyReLU(alpha = (0.3)))\n",
        "  net.add(MaxPooling2D(pool_size = (2,2)))\n",
        "  net.add(Dropout(0.3))\n",
        "  \n",
        "\n",
        "  net.add(Convolution2D(256,  kernel_size=(3,3), padding = 'valid', data_format = \"channels_last\", \n",
        "                        kernel_initializer= \"glorot_normal\", kernel_regularizer=l2(2e-4)))\n",
        "  net.add(BatchNormalization())\n",
        "  net.add(LeakyReLU(alpha = (0.3)))\n",
        "  net.add(MaxPooling2D(pool_size = (2,2)))\n",
        "  net.add(Dropout(0.3))\n",
        "  \n",
        "  net.add(Flatten())\n",
        "\n",
        "  net.add(Dense(256))\n",
        "  net.add(LeakyReLU(alpha = (0.3)))\n",
        "  net.add(Dropout(0.3))\n",
        "  \n",
        "  net.add(Dense(256, activation = 'relu'))\n",
        "  \n",
        "  return net"
      ],
      "execution_count": 0,
      "outputs": []
    },
    {
      "cell_type": "code",
      "metadata": {
        "id": "leXE7oL4rpaF",
        "colab_type": "code",
        "colab": {}
      },
      "source": [
        "def show_img(img, title= \"\"):\n",
        "  plt.imshow(img, cmap = 'gray')\n",
        "  plt.title(title)"
      ],
      "execution_count": 0,
      "outputs": []
    },
    {
      "cell_type": "code",
      "metadata": {
        "id": "mACHIVoLNz7p",
        "colab_type": "code",
        "cellView": "both",
        "colab": {}
      },
      "source": [
        "#@title make training arrays\n",
        "train_real_dir = \"/content/drive/My Drive/Dataset_4NSigComp2010/rawTrainingSet/Real\"\n",
        "train_fake_dir = \"/content/drive/My Drive/Dataset_4NSigComp2010/rawTrainingSet/Fake\"\n",
        "\n",
        "X_train, Y_train = make_training_set(train_real_dir, train_fake_dir, shape, num_pairs)"
      ],
      "execution_count": 0,
      "outputs": []
    },
    {
      "cell_type": "code",
      "metadata": {
        "id": "GV4IByBFRJOK",
        "colab_type": "code",
        "outputId": "fd376cfe-c5a8-4577-99d6-10c3a6375111",
        "colab": {
          "base_uri": "https://localhost:8080/",
          "height": 268
        }
      },
      "source": [
        "show_img(X_train[4,1,:,:,0])"
      ],
      "execution_count": 0,
      "outputs": [
        {
          "output_type": "display_data",
          "data": {
            "image/png": "[encoded data removed]",
            "text/plain": [
              "<Figure size 432x288 with 1 Axes>"
            ]
          },
          "metadata": {
            "tags": []
          }
        }
      ]
    },
    {
      "cell_type": "markdown",
      "metadata": {
        "id": "bNw1Oh3XbbFQ",
        "colab_type": "text"
      },
      "source": [
        "#@title model diagram\n",
        "\n",
        "\n",
        "add a @ to [model diagram] later to show\n",
        "[model diagram](https://drive.google.com/uc?id=16-4s61R1rnkn3l8gS3ESLCO_2QMERIhm)"
      ]
    },
    {
      "cell_type": "code",
      "metadata": {
        "id": "G0eaT8BldSFV",
        "colab_type": "code",
        "colab": {}
      },
      "source": [
        "steven_model.save_weights('steven.h5')"
      ],
      "execution_count": 0,
      "outputs": []
    },
    {
      "cell_type": "code",
      "metadata": {
        "id": "uqfxR2KCdWyE",
        "colab_type": "code",
        "colab": {}
      },
      "source": [
        "steven_model.load_weights('steven.h5')"
      ],
      "execution_count": 0,
      "outputs": []
    },
    {
      "cell_type": "code",
      "metadata": {
        "id": "Xts3ekjRAjv4",
        "colab_type": "code",
        "colab": {}
      },
      "source": [
        "pred = steven_model.predict([x_test[:,0], x_test[:,1]])"
      ],
      "execution_count": 0,
      "outputs": []
    },
    {
      "cell_type": "code",
      "metadata": {
        "id": "pEpAJ8HY91XG",
        "colab_type": "code",
        "colab": {}
      },
      "source": [
        "pred = [0 if x < 0.5 else 1 for x in pred]"
      ],
      "execution_count": 0,
      "outputs": []
    },
    {
      "cell_type": "code",
      "metadata": {
        "id": "3t8FUAQV_kqc",
        "colab_type": "code",
        "outputId": "c78f733b-23a4-4568-9d4e-0bfc16398efc",
        "colab": {
          "base_uri": "https://localhost:8080/",
          "height": 35
        }
      },
      "source": [
        "count = 0\n",
        "for y in range(y_test.shape[0]):\n",
        "  if y_test[y] == pred[y]:\n",
        "    count = count +1 \n",
        "\n",
        "print(count/len(pred))"
      ],
      "execution_count": 0,
      "outputs": [
        {
          "output_type": "stream",
          "text": [
            "0.5112\n"
          ],
          "name": "stdout"
        }
      ]
    },
    {
      "cell_type": "code",
      "metadata": {
        "id": "YgeUVj2Takuc",
        "colab_type": "code",
        "outputId": "d15bca73-c108-49e0-e484-854f1b86eae6",
        "colab": {
          "base_uri": "https://localhost:8080/",
          "height": 197
        }
      },
      "source": [
        "a = pred.ravel().tolist()\n",
        "b = y_test.ravel().tolist()\n",
        "for x in range(10):\n",
        "  print(a[x], b[x])"
      ],
      "execution_count": 0,
      "outputs": [
        {
          "output_type": "stream",
          "text": [
            "0.006531731691211462 0.0\n",
            "0.008064663037657738 0.0\n",
            "0.006211492698639631 0.0\n",
            "0.006309887859970331 1.0\n",
            "0.004663524217903614 1.0\n",
            "0.008866881020367146 0.0\n",
            "0.006197284907102585 0.0\n",
            "0.011134029366075993 1.0\n",
            "0.010291756130754948 1.0\n",
            "0.009998097084462643 0.0\n"
          ],
          "name": "stdout"
        }
      ]
    },
    {
      "cell_type": "code",
      "metadata": {
        "id": "PhpvI6RiCGrH",
        "colab_type": "code",
        "colab": {}
      },
      "source": [
        "def compute_accuracy(pred, y_test):\n",
        "    return y_test[pred.ravel() < 0.5].mean() "
      ],
      "execution_count": 0,
      "outputs": []
    },
    {
      "cell_type": "code",
      "metadata": {
        "id": "jpLK2g7gD9bX",
        "colab_type": "code",
        "outputId": "400d1930-4266-463d-d58f-105ee59d5db7",
        "colab": {
          "base_uri": "https://localhost:8080/",
          "height": 172
        }
      },
      "source": [
        "compute_accuracy(pred, y_test)"
      ],
      "execution_count": 0,
      "outputs": [
        {
          "output_type": "error",
          "ename": "NameError",
          "evalue": "ignored",
          "traceback": [
            "\u001b[0;31m---------------------------------------------------------------------------\u001b[0m",
            "\u001b[0;31mNameError\u001b[0m                                 Traceback (most recent call last)",
            "\u001b[0;32m<ipython-input-59-63c81eb76255>\u001b[0m in \u001b[0;36m<module>\u001b[0;34m()\u001b[0m\n\u001b[0;32m----> 1\u001b[0;31m \u001b[0mcompute_accuracy\u001b[0m\u001b[0;34m(\u001b[0m\u001b[0mpred\u001b[0m\u001b[0;34m,\u001b[0m \u001b[0my_test\u001b[0m\u001b[0;34m)\u001b[0m\u001b[0;34m\u001b[0m\u001b[0;34m\u001b[0m\u001b[0m\n\u001b[0m",
            "\u001b[0;31mNameError\u001b[0m: name 'pred' is not defined"
          ]
        }
      ]
    },
    {
      "cell_type": "code",
      "metadata": {
        "id": "enQAuEPyM8Fl",
        "colab_type": "code",
        "colab": {}
      },
      "source": [
        "def display_triplet(tripletbatch):\n",
        "  nrows = tripletbatch[0].shape[0]\n",
        "\n",
        "  for x in range(len(tripletbatch[0])):\n",
        "    fig = plt.figure(figsize=(27, 9*len(tripletbatch)))\n",
        "    for i in range(3):\n",
        "      sub = fig.add_subplot(3,9, i+1)\n",
        "      plt.axis(\"off\")\n",
        "      plt.imshow(tripletbatch[i][x], cmap = \"gray\" )\n",
        "      sub.title.set_text(labels[i])\n"
      ],
      "execution_count": 0,
      "outputs": []
    },
    {
      "cell_type": "code",
      "metadata": {
        "id": "41Qc8G3QQDNs",
        "colab_type": "code",
        "colab": {}
      },
      "source": [
        "def return_labels(pred):\n",
        "  a = pred.ravel()\n",
        "  ret = []\n",
        "  for x in range(len(a)):\n",
        "    if a[x] < 0.5:\n",
        "      ret.append(\"forgery\")\n",
        "    else:\n",
        "      ret.append(\"real\")\n",
        "  return ret"
      ],
      "execution_count": 0,
      "outputs": []
    },
    {
      "cell_type": "code",
      "metadata": {
        "id": "pJ3agvOoMq49",
        "colab_type": "code",
        "colab": {}
      },
      "source": [
        "def show_predictions(x_test, y_test, pred, num_show):\n",
        "  pred_labels = return_labels(pred)\n",
        "  ref_labels = return_labels(y_test)\n",
        "  for i in range(num_show):\n",
        "    print(i)\n",
        "    i = np.random.randint(0, pred.shape[0])\n",
        "    fig = plt.figure(figsize = (50,25))\n",
        "    for y in range(2):\n",
        "      print(y)\n",
        "      sub = fig.add_subplot(25,25,i+1)\n",
        "      plt.axis(\"off\")\n",
        "      plt.imshow(x_test[y][i], cmap = \"gray\")\n",
        "      title = str(\"LEFT: REFERENCE, RIGHT: QUESTIONED. PREDICTION:\" + pred_labels[i] + \"REFERENCE:\" + ref_labels[i]) \n",
        "      sub.title.set_text(title)\n",
        "\n",
        "      "
      ],
      "execution_count": 0,
      "outputs": []
    },
    {
      "cell_type": "code",
      "metadata": {
        "id": "grV1H1BYRrzM",
        "colab_type": "code",
        "colab": {}
      },
      "source": [
        "show_predictions(x_test, y_test, pred, 10)"
      ],
      "execution_count": 0,
      "outputs": []
    },
    {
      "cell_type": "code",
      "metadata": {
        "id": "rkt5pklFAapr",
        "colab_type": "code",
        "colab": {}
      },
      "source": [
        "history = steven_model.fit(x=[X_train[:,0], X_train[:,1]], y = Y_train, \n",
        "                 epochs = num_iterations, verbose = 1, steps_per_epoch= int(np.abs(np.ceil(num_iterations/num_batch))))"
      ],
      "execution_count": 0,
      "outputs": []
    },
    {
      "cell_type": "code",
      "metadata": {
        "id": "WLgDmmTrhWzj",
        "colab_type": "code",
        "outputId": "b69a83f5-69ae-408c-92a4-92f7c00241e8",
        "colab": {
          "base_uri": "https://localhost:8080/",
          "height": 573
        }
      },
      "source": [
        "plt.plot(history.history['acc'])\n",
        "plt.title('Model accuracy')\n",
        "plt.ylabel('Accuracy')\n",
        "plt.xlabel('Epoch')\n",
        "plt.legend(['Train', 'Test'], loc='upper left')\n",
        "plt.show()\n",
        "\n",
        "# Plot training & validation loss values\n",
        "plt.plot(history.history['loss'])\n",
        "\n",
        "plt.title('Model loss')\n",
        "plt.ylabel('Loss')\n",
        "plt.xlabel('Epoch')\n",
        "plt.legend(['Train', 'Test'], loc='upper left')\n",
        "plt.show()"
      ],
      "execution_count": 0,
      "outputs": [
        {
          "output_type": "display_data",
          "data": {
            "image/png": "[encoded data removed]",
            "text/plain": [
              "<Figure size 432x288 with 1 Axes>"
            ]
          },
          "metadata": {
            "tags": []
          }
        },
        {
          "output_type": "display_data",
          "data": {
            "image/png": "[encoded data removed]",
            "text/plain": [
              "<Figure size 432x288 with 1 Axes>"
            ]
          },
          "metadata": {
            "tags": []
          }
        }
      ]
    },
    {
      "cell_type": "code",
      "metadata": {
        "id": "VATLX1ZhxK86",
        "colab_type": "code",
        "cellView": "form",
        "colab": {}
      },
      "source": [
        "#@title oldtrain!\n",
        "\n",
        "train_datagen = keras.preprocessing.image.ImageDataGenerator(\n",
        "  shear_range = 0.2,\n",
        "  zoom_range = 0.2, \n",
        ")\n",
        "\n",
        "train_generator1 = train_datagen.flow_from_directory(\n",
        "    directory = \"/content/drive/My Drive/Dataset_4NSigComp2010/ProcessedTrainingSet\",\n",
        "    batch_size = num_batch,\n",
        "    color_mode = \"grayscale\",\n",
        "    target_size = shape[0:2],\n",
        "    shuffle = True,\n",
        "    class_mode = \"binary\",\n",
        ")\n",
        "\n",
        "train_generator2 = train_datagen.flow_from_directory(\n",
        "    directory = \"/content/drive/My Drive/Dataset_4NSigComp2010/ProcessedTrainingSet\",\n",
        "    batch_size = num_batch,\n",
        "    color_mode = \"grayscale\",\n",
        "    target_size = shape[0:2],\n",
        "    shuffle = True,\n",
        "    class_mode = \"binary\",\n",
        ")\n",
        "\n",
        "#dual_train_generator = double_gen(train_generator1, train_generator2)\n",
        "\n",
        "dual_train_generator = double_generator(train_generator1, train_generator2)\n",
        "\n",
        "steven_model.fit_generator(dual_train_generator,use_multiprocessing= True, epochs = num_iterations,\n",
        "                           verbose = 1, steps_per_epoch= int(np.abs(np.ceil(num_iterations/num_batch))))\n"
      ],
      "execution_count": 0,
      "outputs": []
    },
    {
      "cell_type": "code",
      "metadata": {
        "id": "WYcA3ssYxwvs",
        "colab_type": "code",
        "colab": {}
      },
      "source": [
        "def square_distance(xandy):\n",
        "  x,y=xandy\n",
        "  return backend.sqrt(backend.sum(backend.square(x - y), axis=1, keepdims=True))"
      ],
      "execution_count": 0,
      "outputs": []
    },
    {
      "cell_type": "code",
      "metadata": {
        "id": "3DWK7ItVazku",
        "colab_type": "code",
        "colab": {}
      },
      "source": [
        "def square_distance_shape(shapes):\n",
        "  shape1, shape2 = shapes\n",
        "  return (shape1[0], 1)"
      ],
      "execution_count": 0,
      "outputs": []
    },
    {
      "cell_type": "code",
      "metadata": {
        "id": "5E-VdHXFztko",
        "colab_type": "code",
        "colab": {}
      },
      "source": [
        "def contrastive_loss(y_true, y_pred):\n",
        "    '''Contrastive loss from Hadsell-et-al.'06\n",
        "    http://yann.lecun.com/exdb/publis/pdf/hadsell-chopra-lecun-06.pdf\n",
        "    '''\n",
        "    margin = 1\n",
        "    return backend.mean(y_true * backend.square(y_pred) + (1 - y_true) * backend.square(backend.maximum(margin - y_pred, 0)))\n"
      ],
      "execution_count": 0,
      "outputs": []
    },
    {
      "cell_type": "code",
      "metadata": {
        "id": "ljYCVumN3kqK",
        "colab_type": "code",
        "colab": {}
      },
      "source": [
        ""
      ],
      "execution_count": 0,
      "outputs": []
    },
    {
      "cell_type": "code",
      "metadata": {
        "id": "xjCzWs1Rurbk",
        "colab_type": "code",
        "outputId": "b6f912d1-8591-40b3-9a1a-647efa843a2f",
        "colab": {
          "base_uri": "https://localhost:8080/",
          "height": 1000
        }
      },
      "source": [
        "#main\n",
        "\n",
        "steven = create_network(shape)\n",
        "steven.summary()\n",
        "\n",
        "input_1 = Input(shape=shape)\n",
        "input_2 = Input(shape=shape)\n",
        "\n",
        "network_1 = steven(input_1)\n",
        "network_2 = steven(input_2)\n",
        "\n",
        "adam = keras.optimizers.adam(lr = learning_rate)\n",
        "rms = keras.optimizers.RMSprop(lr = learning_rate)\n",
        "distance = Lambda(square_distance, output_shape=square_distance_shape)([network_1, network_2])\n",
        "\n",
        "steven_model = Model(input=[input_1, input_2], output = distance)\n",
        "\n",
        "steven_model.compile(loss = contrastive_loss , optimizer = rms , metrics = [\"accuracy\"])\n",
        "\n",
        "steven_model.summary()\n"
      ],
      "execution_count": 0,
      "outputs": [
        {
          "output_type": "stream",
          "text": [
            "Model: \"sequential_2\"\n",
            "_________________________________________________________________\n",
            "Layer (type)                 Output Shape              Param #   \n",
            "=================================================================\n",
            "conv2d_4 (Conv2D)            (None, 91, 111, 64)       6464      \n",
            "_________________________________________________________________\n",
            "batch_normalization_4 (Batch (None, 91, 111, 64)       256       \n",
            "_________________________________________________________________\n",
            "leaky_re_lu_5 (LeakyReLU)    (None, 91, 111, 64)       0         \n",
            "_________________________________________________________________\n",
            "max_pooling2d_4 (MaxPooling2 (None, 45, 55, 64)        0         \n",
            "_________________________________________________________________\n",
            "dropout_5 (Dropout)          (None, 45, 55, 64)        0         \n",
            "_________________________________________________________________\n",
            "conv2d_5 (Conv2D)            (None, 39, 49, 128)       401536    \n",
            "_________________________________________________________________\n",
            "batch_normalization_5 (Batch (None, 39, 49, 128)       512       \n",
            "_________________________________________________________________\n",
            "leaky_re_lu_6 (LeakyReLU)    (None, 39, 49, 128)       0         \n",
            "_________________________________________________________________\n",
            "max_pooling2d_5 (MaxPooling2 (None, 19, 24, 128)       0         \n",
            "_________________________________________________________________\n",
            "dropout_6 (Dropout)          (None, 19, 24, 128)       0         \n",
            "_________________________________________________________________\n",
            "conv2d_6 (Conv2D)            (None, 17, 22, 256)       295168    \n",
            "_________________________________________________________________\n",
            "batch_normalization_6 (Batch (None, 17, 22, 256)       1024      \n",
            "_________________________________________________________________\n",
            "leaky_re_lu_7 (LeakyReLU)    (None, 17, 22, 256)       0         \n",
            "_________________________________________________________________\n",
            "max_pooling2d_6 (MaxPooling2 (None, 8, 11, 256)        0         \n",
            "_________________________________________________________________\n",
            "dropout_7 (Dropout)          (None, 8, 11, 256)        0         \n",
            "_________________________________________________________________\n",
            "flatten_2 (Flatten)          (None, 22528)             0         \n",
            "_________________________________________________________________\n",
            "dense_3 (Dense)              (None, 256)               5767424   \n",
            "_________________________________________________________________\n",
            "leaky_re_lu_8 (LeakyReLU)    (None, 256)               0         \n",
            "_________________________________________________________________\n",
            "dropout_8 (Dropout)          (None, 256)               0         \n",
            "_________________________________________________________________\n",
            "dense_4 (Dense)              (None, 256)               65792     \n",
            "=================================================================\n",
            "Total params: 6,538,176\n",
            "Trainable params: 6,537,280\n",
            "Non-trainable params: 896\n",
            "_________________________________________________________________\n",
            "Model: \"model_2\"\n",
            "__________________________________________________________________________________________________\n",
            "Layer (type)                    Output Shape         Param #     Connected to                     \n",
            "==================================================================================================\n",
            "input_3 (InputLayer)            (None, 100, 120, 1)  0                                            \n",
            "__________________________________________________________________________________________________\n",
            "input_4 (InputLayer)            (None, 100, 120, 1)  0                                            \n",
            "__________________________________________________________________________________________________\n",
            "sequential_2 (Sequential)       (None, 256)          6538176     input_3[0][0]                    \n",
            "                                                                 input_4[0][0]                    \n",
            "__________________________________________________________________________________________________\n",
            "lambda_2 (Lambda)               (None, 1)            0           sequential_2[1][0]               \n",
            "                                                                 sequential_2[2][0]               \n",
            "==================================================================================================\n",
            "Total params: 6,538,176\n",
            "Trainable params: 6,537,280\n",
            "Non-trainable params: 896\n",
            "__________________________________________________________________________________________________\n"
          ],
          "name": "stdout"
        },
        {
          "output_type": "stream",
          "text": [
            "/usr/local/lib/python3.6/dist-packages/ipykernel_launcher.py:15: UserWarning: Update your `Model` call to the Keras 2 API: `Model(inputs=[<tf.Tenso..., outputs=Tensor(\"la...)`\n",
            "  from ipykernel import kernelapp as app\n"
          ],
          "name": "stderr"
        }
      ]
    },
    {
      "cell_type": "code",
      "metadata": {
        "id": "jxCLXzMZ4UPv",
        "colab_type": "code",
        "colab": {}
      },
      "source": [
        ""
      ],
      "execution_count": 0,
      "outputs": []
    }
  ]
}