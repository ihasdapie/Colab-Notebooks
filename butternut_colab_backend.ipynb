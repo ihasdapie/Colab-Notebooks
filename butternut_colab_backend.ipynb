{
  "nbformat": 4,
  "nbformat_minor": 0,
  "metadata": {
    "colab": {
      "name": "butternut-colab-backend",
      "provenance": [],
      "authorship_tag": "ABX9TyPGbzNWede5lGWAqs0K5CHB",
      "include_colab_link": true
    },
    "kernelspec": {
      "name": "python3",
      "display_name": "Python 3"
    }
  },
  "cells": [
    {
      "cell_type": "markdown",
      "metadata": {
        "id": "view-in-github",
        "colab_type": "text"
      },
      "source": [
        "<a href=\"https://colab.research.google.com/github/ihasdapie/Colab-Notebooks/blob/master/butternut_colab_backend.ipynb\" target=\"_parent\"><img src=\"https://colab.research.google.com/assets/colab-badge.svg\" alt=\"Open In Colab\"/></a>"
      ]
    },
    {
      "cell_type": "code",
      "metadata": {
        "id": "ZIAq0ltkximm"
      },
      "source": [
        "%%capture\n",
        "!pip install transformers\n",
        "!pip install flask-ngrok\n",
        "!pip install flask==0.12.2 # for compatability with flask-ngrok\n",
        "\n",
        "import numpy as np\n",
        "import torch\n",
        "from transformers import GPT2Tokenizer, GPT2LMHeadModel\n",
        "import flask\n",
        "from flask import Flask, request, jsonify\n",
        "from flask_ngrok import run_with_ngrok"
      ],
      "execution_count": 7,
      "outputs": []
    },
    {
      "cell_type": "code",
      "metadata": {
        "colab": {
          "base_uri": "https://localhost:8080/"
        },
        "id": "HLrN6UOLxvlg",
        "outputId": "06457555-4275-40cf-befa-9f66be8c531b"
      },
      "source": [
        "!rm -rf butternut_backend\n",
        "!git clone https://github.com/btrnt/butternut_backend.git\n",
        "\n",
        "import butternut_backend.src.gltr as gltr\n"
      ],
      "execution_count": 2,
      "outputs": [
        {
          "output_type": "stream",
          "text": [
            "Cloning into 'butternut_backend'...\n",
            "remote: Enumerating objects: 39, done.\u001b[K\n",
            "remote: Counting objects:   2% (1/39)\u001b[K\rremote: Counting objects:   5% (2/39)\u001b[K\rremote: Counting objects:   7% (3/39)\u001b[K\rremote: Counting objects:  10% (4/39)\u001b[K\rremote: Counting objects:  12% (5/39)\u001b[K\rremote: Counting objects:  15% (6/39)\u001b[K\rremote: Counting objects:  17% (7/39)\u001b[K\rremote: Counting objects:  20% (8/39)\u001b[K\rremote: Counting objects:  23% (9/39)\u001b[K\rremote: Counting objects:  25% (10/39)\u001b[K\rremote: Counting objects:  28% (11/39)\u001b[K\rremote: Counting objects:  30% (12/39)\u001b[K\rremote: Counting objects:  33% (13/39)\u001b[K\rremote: Counting objects:  35% (14/39)\u001b[K\rremote: Counting objects:  38% (15/39)\u001b[K\rremote: Counting objects:  41% (16/39)\u001b[K\rremote: Counting objects:  43% (17/39)\u001b[K\rremote: Counting objects:  46% (18/39)\u001b[K\rremote: Counting objects:  48% (19/39)\u001b[K\rremote: Counting objects:  51% (20/39)\u001b[K\rremote: Counting objects:  53% (21/39)\u001b[K\rremote: Counting objects:  56% (22/39)\u001b[K\rremote: Counting objects:  58% (23/39)\u001b[K\rremote: Counting objects:  61% (24/39)\u001b[K\rremote: Counting objects:  64% (25/39)\u001b[K\rremote: Counting objects:  66% (26/39)\u001b[K\rremote: Counting objects:  69% (27/39)\u001b[K\rremote: Counting objects:  71% (28/39)\u001b[K\rremote: Counting objects:  74% (29/39)\u001b[K\rremote: Counting objects:  76% (30/39)\u001b[K\rremote: Counting objects:  79% (31/39)\u001b[K\rremote: Counting objects:  82% (32/39)\u001b[K\rremote: Counting objects:  84% (33/39)\u001b[K\rremote: Counting objects:  87% (34/39)\u001b[K\rremote: Counting objects:  89% (35/39)\u001b[K\rremote: Counting objects:  92% (36/39)\u001b[K\rremote: Counting objects:  94% (37/39)\u001b[K\rremote: Counting objects:  97% (38/39)\u001b[K\rremote: Counting objects: 100% (39/39)\u001b[K\rremote: Counting objects: 100% (39/39), done.\u001b[K\n",
            "remote: Compressing objects:   3% (1/27)\u001b[K\rremote: Compressing objects:   7% (2/27)\u001b[K\rremote: Compressing objects:  11% (3/27)\u001b[K\rremote: Compressing objects:  14% (4/27)\u001b[K\rremote: Compressing objects:  18% (5/27)\u001b[K\rremote: Compressing objects:  22% (6/27)\u001b[K\rremote: Compressing objects:  25% (7/27)\u001b[K\rremote: Compressing objects:  29% (8/27)\u001b[K\rremote: Compressing objects:  33% (9/27)\u001b[K\rremote: Compressing objects:  37% (10/27)\u001b[K\rremote: Compressing objects:  40% (11/27)\u001b[K\rremote: Compressing objects:  44% (12/27)\u001b[K\rremote: Compressing objects:  48% (13/27)\u001b[K\rremote: Compressing objects:  51% (14/27)\u001b[K\rremote: Compressing objects:  55% (15/27)\u001b[K\rremote: Compressing objects:  59% (16/27)\u001b[K\rremote: Compressing objects:  62% (17/27)\u001b[K\rremote: Compressing objects:  66% (18/27)\u001b[K\rremote: Compressing objects:  70% (19/27)\u001b[K\rremote: Compressing objects:  74% (20/27)\u001b[K\rremote: Compressing objects:  77% (21/27)\u001b[K\rremote: Compressing objects:  81% (22/27)\u001b[K\rremote: Compressing objects:  85% (23/27)\u001b[K\rremote: Compressing objects:  88% (24/27)\u001b[K\rremote: Compressing objects:  92% (25/27)\u001b[K\rremote: Compressing objects:  96% (26/27)\u001b[K\rremote: Compressing objects: 100% (27/27)\u001b[K\rremote: Compressing objects: 100% (27/27), done.\u001b[K\n",
            "remote: Total 39 (delta 15), reused 29 (delta 9), pack-reused 0\u001b[K\n",
            "Unpacking objects:   2% (1/39)   \rUnpacking objects:   5% (2/39)   \rUnpacking objects:   7% (3/39)   \rUnpacking objects:  10% (4/39)   \rUnpacking objects:  12% (5/39)   \rUnpacking objects:  15% (6/39)   \rUnpacking objects:  17% (7/39)   \rUnpacking objects:  20% (8/39)   \rUnpacking objects:  23% (9/39)   \rUnpacking objects:  25% (10/39)   \rUnpacking objects:  28% (11/39)   \rUnpacking objects:  30% (12/39)   \rUnpacking objects:  33% (13/39)   \rUnpacking objects:  35% (14/39)   \rUnpacking objects:  38% (15/39)   \rUnpacking objects:  41% (16/39)   \rUnpacking objects:  43% (17/39)   \rUnpacking objects:  46% (18/39)   \rUnpacking objects:  48% (19/39)   \rUnpacking objects:  51% (20/39)   \rUnpacking objects:  53% (21/39)   \rUnpacking objects:  56% (22/39)   \rUnpacking objects:  58% (23/39)   \rUnpacking objects:  61% (24/39)   \rUnpacking objects:  64% (25/39)   \rUnpacking objects:  66% (26/39)   \rUnpacking objects:  69% (27/39)   \rUnpacking objects:  71% (28/39)   \rUnpacking objects:  74% (29/39)   \rUnpacking objects:  76% (30/39)   \rUnpacking objects:  79% (31/39)   \rUnpacking objects:  82% (32/39)   \rUnpacking objects:  84% (33/39)   \rUnpacking objects:  87% (34/39)   \rUnpacking objects:  89% (35/39)   \rUnpacking objects:  92% (36/39)   \rUnpacking objects:  94% (37/39)   \rUnpacking objects:  97% (38/39)   \rUnpacking objects: 100% (39/39)   \rUnpacking objects: 100% (39/39), done.\n"
          ],
          "name": "stdout"
        }
      ]
    },
    {
      "cell_type": "code",
      "metadata": {
        "colab": {
          "base_uri": "https://localhost:8080/"
        },
        "id": "kYbr89ZH0rbi",
        "outputId": "be0ce371-d4d8-469e-fb30-497a973f5671"
      },
      "source": [
        "gmdl = gltr.LM()"
      ],
      "execution_count": 3,
      "outputs": [
        {
          "output_type": "stream",
          "text": [
            "Loaded GPT-2 model!\n"
          ],
          "name": "stdout"
        }
      ]
    },
    {
      "cell_type": "code",
      "metadata": {
        "colab": {
          "base_uri": "https://localhost:8080/"
        },
        "id": "GjjO-64qzzQ9",
        "outputId": "af31ecdd-47bb-43b9-c216-a1152f01ae02"
      },
      "source": [
        "gmdl.check_probabilities(\"a string\")"
      ],
      "execution_count": 4,
      "outputs": [
        {
          "output_type": "execute_result",
          "data": {
            "text/plain": [
              "{'bpe_strings': ['<|endoftext|>', 'a', 'Ġstring'],\n",
              " 'pred_topk': [[('Ċ ', 0.0623)], [('.', 0.05815)]],\n",
              " 'real_topk': [(65, 0.00192), (173, 0.0007)]}"
            ]
          },
          "metadata": {
            "tags": []
          },
          "execution_count": 4
        }
      ]
    },
    {
      "cell_type": "code",
      "metadata": {
        "id": "bomv9obu2XHi"
      },
      "source": [
        ""
      ],
      "execution_count": null,
      "outputs": []
    },
    {
      "cell_type": "code",
      "metadata": {
        "id": "0reYVH132XVR"
      },
      "source": [
        "app = Flask(__name__)\n",
        "app.config['JSONIFY_PRETTYPRINT_REGULAR'] = False\n",
        "\n",
        "@app.route('/gp', methods=['GET', 'POST']) # (g)et_(p)robability\n",
        "def gp():\n",
        "    global test_probs\n",
        "    # just return a dummy run for now\n",
        "    # raw_text = \"How much wood would a woodchuck chuck if a woodchuck could chuck wood?\"\n",
        "\n",
        "    if request.method == 'POST':  #this block is only entered when the form is submitted\n",
        "        raw_text = request.form.get('text')\n",
        "        payload = gmdl.check_probabilities(raw_text, topk=1)\n",
        "        del payload['pred_topk']      \n",
        "        return jsonify(payload)\n",
        "        \n",
        "    s = \"\"\"<form method=\"POST\">\n",
        "                  Text: <input type=\"text\" name=\"text\"><br>\n",
        "                  <input type=\"submit\" value=\"Submit\"><br>\n",
        "              </form>\"\"\"\n",
        "    return s"
      ],
      "execution_count": 5,
      "outputs": []
    },
    {
      "cell_type": "code",
      "metadata": {
        "colab": {
          "base_uri": "https://localhost:8080/"
        },
        "id": "ztzbCMNV2jez",
        "outputId": "cdd69eee-9e90-40d6-ae1a-be63a03ed51e"
      },
      "source": [
        "run_with_ngrok(app)\n",
        "app.run()"
      ],
      "execution_count": 8,
      "outputs": [
        {
          "output_type": "stream",
          "text": [
            " * Running on http://127.0.0.1:5000/ (Press CTRL+C to quit)\n"
          ],
          "name": "stderr"
        },
        {
          "output_type": "stream",
          "text": [
            " * Running on http://d212a65cdd62.ngrok.io\n",
            " * Traffic stats available on http://127.0.0.1:4040\n"
          ],
          "name": "stdout"
        },
        {
          "output_type": "stream",
          "text": [
            "127.0.0.1 - - [10/Jan/2021 01:14:15] \"\u001b[33mGET / HTTP/1.1\u001b[0m\" 404 -\n",
            "127.0.0.1 - - [10/Jan/2021 01:14:15] \"\u001b[33mGET /favicon.ico HTTP/1.1\u001b[0m\" 404 -\n",
            "127.0.0.1 - - [10/Jan/2021 01:14:17] \"\u001b[37mGET /gp HTTP/1.1\u001b[0m\" 200 -\n"
          ],
          "name": "stderr"
        }
      ]
    }
  ]
}